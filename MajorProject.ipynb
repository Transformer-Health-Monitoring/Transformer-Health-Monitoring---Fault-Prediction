{
 "cells": [
  {
   "cell_type": "code",
   "execution_count": 2,
   "metadata": {
    "id": "8_qP3kf4uBz-"
   },
   "outputs": [],
   "source": [
    "import pandas as pd\n",
    "import numpy as np\n",
    "# import matplotlib.pyplot as plt\n",
    "import seaborn as sns\n",
    "from sklearn.model_selection import train_test_split\n",
    "from sklearn.preprocessing import StandardScaler\n",
    "from sklearn.ensemble import RandomForestClassifier\n",
    "from sklearn.tree import DecisionTreeClassifier\n",
    "from sklearn.metrics import accuracy_score, classification_report\n",
    "from sklearn.impute import SimpleImputer\n",
    "from sklearn.preprocessing import LabelEncoder\n",
    "from sklearn.preprocessing import OneHotEncoder"
   ]
  },
  {
   "cell_type": "code",
   "execution_count": 62,
   "metadata": {
    "id": "igAGJ5eDuqir"
   },
   "outputs": [],
   "source": [
    "df = pd.read_csv(\"./iot_dataset.csv\")"
   ]
  },
  {
   "cell_type": "code",
   "execution_count": 63,
   "metadata": {
    "colab": {
     "base_uri": "https://localhost:8080/",
     "height": 206
    },
    "id": "IxkMVPEjvota",
    "outputId": "2b219cec-4bb3-4b67-edbf-bd43cf16e5fe"
   },
   "outputs": [
    {
     "data": {
      "text/html": [
       "<div>\n",
       "<style scoped>\n",
       "    .dataframe tbody tr th:only-of-type {\n",
       "        vertical-align: middle;\n",
       "    }\n",
       "\n",
       "    .dataframe tbody tr th {\n",
       "        vertical-align: top;\n",
       "    }\n",
       "\n",
       "    .dataframe thead th {\n",
       "        text-align: right;\n",
       "    }\n",
       "</style>\n",
       "<table border=\"1\" class=\"dataframe\">\n",
       "  <thead>\n",
       "    <tr style=\"text-align: right;\">\n",
       "      <th></th>\n",
       "      <th>created_at</th>\n",
       "      <th>entry_id</th>\n",
       "      <th>voltage</th>\n",
       "      <th>current</th>\n",
       "      <th>power</th>\n",
       "      <th>energy</th>\n",
       "      <th>frequency</th>\n",
       "      <th>power factor</th>\n",
       "      <th>temp</th>\n",
       "    </tr>\n",
       "  </thead>\n",
       "  <tbody>\n",
       "    <tr>\n",
       "      <th>0</th>\n",
       "      <td>2/15/2025 8:00</td>\n",
       "      <td>1</td>\n",
       "      <td>190.66</td>\n",
       "      <td>0.030</td>\n",
       "      <td>6.1</td>\n",
       "      <td>0.007</td>\n",
       "      <td>50.39</td>\n",
       "      <td>0.59</td>\n",
       "      <td>29.6</td>\n",
       "    </tr>\n",
       "    <tr>\n",
       "      <th>1</th>\n",
       "      <td>2/15/2025 8:00</td>\n",
       "      <td>2</td>\n",
       "      <td>238.80</td>\n",
       "      <td>0.039</td>\n",
       "      <td>76.6</td>\n",
       "      <td>0.080</td>\n",
       "      <td>49.89</td>\n",
       "      <td>0.69</td>\n",
       "      <td>41.5</td>\n",
       "    </tr>\n",
       "    <tr>\n",
       "      <th>2</th>\n",
       "      <td>2/15/2025 8:01</td>\n",
       "      <td>3</td>\n",
       "      <td>180.46</td>\n",
       "      <td>0.054</td>\n",
       "      <td>10.8</td>\n",
       "      <td>0.012</td>\n",
       "      <td>50.40</td>\n",
       "      <td>0.40</td>\n",
       "      <td>28.8</td>\n",
       "    </tr>\n",
       "    <tr>\n",
       "      <th>3</th>\n",
       "      <td>2/15/2025 8:02</td>\n",
       "      <td>4</td>\n",
       "      <td>181.76</td>\n",
       "      <td>0.078</td>\n",
       "      <td>13.2</td>\n",
       "      <td>0.013</td>\n",
       "      <td>49.56</td>\n",
       "      <td>0.56</td>\n",
       "      <td>30.3</td>\n",
       "    </tr>\n",
       "    <tr>\n",
       "      <th>4</th>\n",
       "      <td>2/15/2025 8:03</td>\n",
       "      <td>5</td>\n",
       "      <td>256.70</td>\n",
       "      <td>0.077</td>\n",
       "      <td>281.7</td>\n",
       "      <td>0.337</td>\n",
       "      <td>50.29</td>\n",
       "      <td>0.98</td>\n",
       "      <td>109.4</td>\n",
       "    </tr>\n",
       "    <tr>\n",
       "      <th>5</th>\n",
       "      <td>2/15/2025 8:03</td>\n",
       "      <td>6</td>\n",
       "      <td>221.78</td>\n",
       "      <td>0.027</td>\n",
       "      <td>90.5</td>\n",
       "      <td>0.091</td>\n",
       "      <td>50.20</td>\n",
       "      <td>0.62</td>\n",
       "      <td>42.8</td>\n",
       "    </tr>\n",
       "    <tr>\n",
       "      <th>6</th>\n",
       "      <td>2/15/2025 8:04</td>\n",
       "      <td>7</td>\n",
       "      <td>207.59</td>\n",
       "      <td>0.033</td>\n",
       "      <td>7.8</td>\n",
       "      <td>0.008</td>\n",
       "      <td>50.25</td>\n",
       "      <td>0.56</td>\n",
       "      <td>29.4</td>\n",
       "    </tr>\n",
       "    <tr>\n",
       "      <th>7</th>\n",
       "      <td>2/15/2025 8:05</td>\n",
       "      <td>8</td>\n",
       "      <td>215.07</td>\n",
       "      <td>0.043</td>\n",
       "      <td>8.3</td>\n",
       "      <td>0.010</td>\n",
       "      <td>49.54</td>\n",
       "      <td>0.66</td>\n",
       "      <td>29.5</td>\n",
       "    </tr>\n",
       "    <tr>\n",
       "      <th>8</th>\n",
       "      <td>2/15/2025 8:06</td>\n",
       "      <td>9</td>\n",
       "      <td>235.33</td>\n",
       "      <td>0.029</td>\n",
       "      <td>88.2</td>\n",
       "      <td>0.097</td>\n",
       "      <td>50.03</td>\n",
       "      <td>0.59</td>\n",
       "      <td>44.0</td>\n",
       "    </tr>\n",
       "    <tr>\n",
       "      <th>9</th>\n",
       "      <td>2/15/2025 8:06</td>\n",
       "      <td>10</td>\n",
       "      <td>225.71</td>\n",
       "      <td>0.041</td>\n",
       "      <td>71.7</td>\n",
       "      <td>0.058</td>\n",
       "      <td>49.86</td>\n",
       "      <td>0.44</td>\n",
       "      <td>39.3</td>\n",
       "    </tr>\n",
       "  </tbody>\n",
       "</table>\n",
       "</div>"
      ],
      "text/plain": [
       "       created_at  entry_id  voltage  current  power  energy  frequency  \\\n",
       "0  2/15/2025 8:00         1   190.66    0.030    6.1   0.007      50.39   \n",
       "1  2/15/2025 8:00         2   238.80    0.039   76.6   0.080      49.89   \n",
       "2  2/15/2025 8:01         3   180.46    0.054   10.8   0.012      50.40   \n",
       "3  2/15/2025 8:02         4   181.76    0.078   13.2   0.013      49.56   \n",
       "4  2/15/2025 8:03         5   256.70    0.077  281.7   0.337      50.29   \n",
       "5  2/15/2025 8:03         6   221.78    0.027   90.5   0.091      50.20   \n",
       "6  2/15/2025 8:04         7   207.59    0.033    7.8   0.008      50.25   \n",
       "7  2/15/2025 8:05         8   215.07    0.043    8.3   0.010      49.54   \n",
       "8  2/15/2025 8:06         9   235.33    0.029   88.2   0.097      50.03   \n",
       "9  2/15/2025 8:06        10   225.71    0.041   71.7   0.058      49.86   \n",
       "\n",
       "   power factor   temp  \n",
       "0          0.59   29.6  \n",
       "1          0.69   41.5  \n",
       "2          0.40   28.8  \n",
       "3          0.56   30.3  \n",
       "4          0.98  109.4  \n",
       "5          0.62   42.8  \n",
       "6          0.56   29.4  \n",
       "7          0.66   29.5  \n",
       "8          0.59   44.0  \n",
       "9          0.44   39.3  "
      ]
     },
     "execution_count": 63,
     "metadata": {},
     "output_type": "execute_result"
    }
   ],
   "source": [
    "df.head(10)"
   ]
  },
  {
   "cell_type": "code",
   "execution_count": 64,
   "metadata": {
    "colab": {
     "base_uri": "https://localhost:8080/",
     "height": 206
    },
    "id": "TEYcmF2PvpT2",
    "outputId": "a80d1c34-2314-4d07-8f67-c821901c1bc0"
   },
   "outputs": [
    {
     "data": {
      "text/html": [
       "<div>\n",
       "<style scoped>\n",
       "    .dataframe tbody tr th:only-of-type {\n",
       "        vertical-align: middle;\n",
       "    }\n",
       "\n",
       "    .dataframe tbody tr th {\n",
       "        vertical-align: top;\n",
       "    }\n",
       "\n",
       "    .dataframe thead th {\n",
       "        text-align: right;\n",
       "    }\n",
       "</style>\n",
       "<table border=\"1\" class=\"dataframe\">\n",
       "  <thead>\n",
       "    <tr style=\"text-align: right;\">\n",
       "      <th></th>\n",
       "      <th>created_at</th>\n",
       "      <th>entry_id</th>\n",
       "      <th>voltage</th>\n",
       "      <th>current</th>\n",
       "      <th>power</th>\n",
       "      <th>energy</th>\n",
       "      <th>frequency</th>\n",
       "      <th>power factor</th>\n",
       "      <th>temp</th>\n",
       "    </tr>\n",
       "  </thead>\n",
       "  <tbody>\n",
       "    <tr>\n",
       "      <th>2786</th>\n",
       "      <td>2/22/2025 9:14</td>\n",
       "      <td>2787</td>\n",
       "      <td>253.82</td>\n",
       "      <td>0.076</td>\n",
       "      <td>16.8</td>\n",
       "      <td>28.387</td>\n",
       "      <td>50.10</td>\n",
       "      <td>0.87</td>\n",
       "      <td>108.4</td>\n",
       "    </tr>\n",
       "    <tr>\n",
       "      <th>2787</th>\n",
       "      <td>2/22/2025 9:15</td>\n",
       "      <td>2788</td>\n",
       "      <td>254.43</td>\n",
       "      <td>0.056</td>\n",
       "      <td>11.0</td>\n",
       "      <td>21.025</td>\n",
       "      <td>50.19</td>\n",
       "      <td>0.77</td>\n",
       "      <td>108.3</td>\n",
       "    </tr>\n",
       "    <tr>\n",
       "      <th>2788</th>\n",
       "      <td>2/22/2025 9:16</td>\n",
       "      <td>2789</td>\n",
       "      <td>254.53</td>\n",
       "      <td>0.020</td>\n",
       "      <td>3.7</td>\n",
       "      <td>5.707</td>\n",
       "      <td>49.89</td>\n",
       "      <td>0.72</td>\n",
       "      <td>112.3</td>\n",
       "    </tr>\n",
       "    <tr>\n",
       "      <th>2789</th>\n",
       "      <td>2/22/2025 9:17</td>\n",
       "      <td>2790</td>\n",
       "      <td>254.90</td>\n",
       "      <td>0.059</td>\n",
       "      <td>7.1</td>\n",
       "      <td>45.910</td>\n",
       "      <td>50.50</td>\n",
       "      <td>0.47</td>\n",
       "      <td>114.5</td>\n",
       "    </tr>\n",
       "    <tr>\n",
       "      <th>2790</th>\n",
       "      <td>2/22/2025 9:18</td>\n",
       "      <td>2791</td>\n",
       "      <td>255.26</td>\n",
       "      <td>0.124</td>\n",
       "      <td>29.8</td>\n",
       "      <td>36.468</td>\n",
       "      <td>50.40</td>\n",
       "      <td>0.94</td>\n",
       "      <td>111.1</td>\n",
       "    </tr>\n",
       "  </tbody>\n",
       "</table>\n",
       "</div>"
      ],
      "text/plain": [
       "          created_at  entry_id  voltage  current  power  energy  frequency  \\\n",
       "2786  2/22/2025 9:14      2787   253.82    0.076   16.8  28.387      50.10   \n",
       "2787  2/22/2025 9:15      2788   254.43    0.056   11.0  21.025      50.19   \n",
       "2788  2/22/2025 9:16      2789   254.53    0.020    3.7   5.707      49.89   \n",
       "2789  2/22/2025 9:17      2790   254.90    0.059    7.1  45.910      50.50   \n",
       "2790  2/22/2025 9:18      2791   255.26    0.124   29.8  36.468      50.40   \n",
       "\n",
       "      power factor   temp  \n",
       "2786          0.87  108.4  \n",
       "2787          0.77  108.3  \n",
       "2788          0.72  112.3  \n",
       "2789          0.47  114.5  \n",
       "2790          0.94  111.1  "
      ]
     },
     "execution_count": 64,
     "metadata": {},
     "output_type": "execute_result"
    }
   ],
   "source": [
    "df.tail()"
   ]
  },
  {
   "cell_type": "code",
   "execution_count": 65,
   "metadata": {
    "colab": {
     "base_uri": "https://localhost:8080/"
    },
    "id": "VUvs6NZ-vtZC",
    "outputId": "21230f2f-2727-4fa0-b67e-ae1acd414809"
   },
   "outputs": [
    {
     "name": "stdout",
     "output_type": "stream",
     "text": [
      "<class 'pandas.core.frame.DataFrame'>\n",
      "RangeIndex: 2791 entries, 0 to 2790\n",
      "Data columns (total 9 columns):\n",
      " #   Column        Non-Null Count  Dtype  \n",
      "---  ------        --------------  -----  \n",
      " 0   created_at    2791 non-null   object \n",
      " 1   entry_id      2791 non-null   int64  \n",
      " 2   voltage       2791 non-null   float64\n",
      " 3   current       2791 non-null   float64\n",
      " 4   power         2791 non-null   float64\n",
      " 5   energy        2791 non-null   float64\n",
      " 6   frequency     2791 non-null   float64\n",
      " 7   power factor  2791 non-null   float64\n",
      " 8   temp          2791 non-null   float64\n",
      "dtypes: float64(7), int64(1), object(1)\n",
      "memory usage: 196.4+ KB\n"
     ]
    }
   ],
   "source": [
    "df.info()"
   ]
  },
  {
   "cell_type": "code",
   "execution_count": 66,
   "metadata": {
    "colab": {
     "base_uri": "https://localhost:8080/"
    },
    "id": "-JVm_2s3vvs0",
    "outputId": "fa69b7b2-392e-4ca4-c51f-dcfca7238777",
    "scrolled": true
   },
   "outputs": [
    {
     "data": {
      "text/plain": [
       "(2791, 9)"
      ]
     },
     "execution_count": 66,
     "metadata": {},
     "output_type": "execute_result"
    }
   ],
   "source": [
    "df.shape"
   ]
  },
  {
   "cell_type": "code",
   "execution_count": 67,
   "metadata": {
    "colab": {
     "base_uri": "https://localhost:8080/",
     "height": 366
    },
    "id": "Bgl7wgtPv05X",
    "outputId": "c77b13fd-79b5-4ec1-a22e-28eed5960dd9"
   },
   "outputs": [
    {
     "data": {
      "text/plain": [
       "created_at      0\n",
       "entry_id        0\n",
       "voltage         0\n",
       "current         0\n",
       "power           0\n",
       "energy          0\n",
       "frequency       0\n",
       "power factor    0\n",
       "temp            0\n",
       "dtype: int64"
      ]
     },
     "execution_count": 67,
     "metadata": {},
     "output_type": "execute_result"
    }
   ],
   "source": [
    "df.isnull().sum()"
   ]
  },
  {
   "cell_type": "code",
   "execution_count": 68,
   "metadata": {
    "id": "R17xH7vYv3Bx"
   },
   "outputs": [],
   "source": [
    "df.drop(columns=['created_at', 'entry_id'], inplace=True)"
   ]
  },
  {
   "cell_type": "code",
   "execution_count": 69,
   "metadata": {
    "colab": {
     "base_uri": "https://localhost:8080/",
     "height": 206
    },
    "id": "bTPZwgw6v5Ix",
    "outputId": "709c6e57-6760-486f-fb0f-99ed3212ebee"
   },
   "outputs": [
    {
     "data": {
      "text/html": [
       "<div>\n",
       "<style scoped>\n",
       "    .dataframe tbody tr th:only-of-type {\n",
       "        vertical-align: middle;\n",
       "    }\n",
       "\n",
       "    .dataframe tbody tr th {\n",
       "        vertical-align: top;\n",
       "    }\n",
       "\n",
       "    .dataframe thead th {\n",
       "        text-align: right;\n",
       "    }\n",
       "</style>\n",
       "<table border=\"1\" class=\"dataframe\">\n",
       "  <thead>\n",
       "    <tr style=\"text-align: right;\">\n",
       "      <th></th>\n",
       "      <th>voltage</th>\n",
       "      <th>current</th>\n",
       "      <th>power</th>\n",
       "      <th>energy</th>\n",
       "      <th>frequency</th>\n",
       "      <th>power factor</th>\n",
       "      <th>temp</th>\n",
       "    </tr>\n",
       "  </thead>\n",
       "  <tbody>\n",
       "    <tr>\n",
       "      <th>0</th>\n",
       "      <td>190.66</td>\n",
       "      <td>0.030</td>\n",
       "      <td>6.1</td>\n",
       "      <td>0.007</td>\n",
       "      <td>50.39</td>\n",
       "      <td>0.59</td>\n",
       "      <td>29.6</td>\n",
       "    </tr>\n",
       "    <tr>\n",
       "      <th>1</th>\n",
       "      <td>238.80</td>\n",
       "      <td>0.039</td>\n",
       "      <td>76.6</td>\n",
       "      <td>0.080</td>\n",
       "      <td>49.89</td>\n",
       "      <td>0.69</td>\n",
       "      <td>41.5</td>\n",
       "    </tr>\n",
       "    <tr>\n",
       "      <th>2</th>\n",
       "      <td>180.46</td>\n",
       "      <td>0.054</td>\n",
       "      <td>10.8</td>\n",
       "      <td>0.012</td>\n",
       "      <td>50.40</td>\n",
       "      <td>0.40</td>\n",
       "      <td>28.8</td>\n",
       "    </tr>\n",
       "    <tr>\n",
       "      <th>3</th>\n",
       "      <td>181.76</td>\n",
       "      <td>0.078</td>\n",
       "      <td>13.2</td>\n",
       "      <td>0.013</td>\n",
       "      <td>49.56</td>\n",
       "      <td>0.56</td>\n",
       "      <td>30.3</td>\n",
       "    </tr>\n",
       "    <tr>\n",
       "      <th>4</th>\n",
       "      <td>256.70</td>\n",
       "      <td>0.077</td>\n",
       "      <td>281.7</td>\n",
       "      <td>0.337</td>\n",
       "      <td>50.29</td>\n",
       "      <td>0.98</td>\n",
       "      <td>109.4</td>\n",
       "    </tr>\n",
       "  </tbody>\n",
       "</table>\n",
       "</div>"
      ],
      "text/plain": [
       "   voltage  current  power  energy  frequency  power factor   temp\n",
       "0   190.66    0.030    6.1   0.007      50.39          0.59   29.6\n",
       "1   238.80    0.039   76.6   0.080      49.89          0.69   41.5\n",
       "2   180.46    0.054   10.8   0.012      50.40          0.40   28.8\n",
       "3   181.76    0.078   13.2   0.013      49.56          0.56   30.3\n",
       "4   256.70    0.077  281.7   0.337      50.29          0.98  109.4"
      ]
     },
     "execution_count": 69,
     "metadata": {},
     "output_type": "execute_result"
    }
   ],
   "source": [
    "df.head()"
   ]
  },
  {
   "cell_type": "code",
   "execution_count": 70,
   "metadata": {
    "colab": {
     "base_uri": "https://localhost:8080/",
     "height": 206
    },
    "id": "t90BB8fTv7G6",
    "outputId": "f20e2b46-f403-49a5-f59c-968cf512e602"
   },
   "outputs": [
    {
     "data": {
      "text/html": [
       "<div>\n",
       "<style scoped>\n",
       "    .dataframe tbody tr th:only-of-type {\n",
       "        vertical-align: middle;\n",
       "    }\n",
       "\n",
       "    .dataframe tbody tr th {\n",
       "        vertical-align: top;\n",
       "    }\n",
       "\n",
       "    .dataframe thead th {\n",
       "        text-align: right;\n",
       "    }\n",
       "</style>\n",
       "<table border=\"1\" class=\"dataframe\">\n",
       "  <thead>\n",
       "    <tr style=\"text-align: right;\">\n",
       "      <th></th>\n",
       "      <th>voltage</th>\n",
       "      <th>current</th>\n",
       "      <th>power</th>\n",
       "      <th>energy</th>\n",
       "      <th>frequency</th>\n",
       "      <th>power factor</th>\n",
       "      <th>temp</th>\n",
       "    </tr>\n",
       "  </thead>\n",
       "  <tbody>\n",
       "    <tr>\n",
       "      <th>2786</th>\n",
       "      <td>253.82</td>\n",
       "      <td>0.076</td>\n",
       "      <td>16.8</td>\n",
       "      <td>28.387</td>\n",
       "      <td>50.10</td>\n",
       "      <td>0.87</td>\n",
       "      <td>108.4</td>\n",
       "    </tr>\n",
       "    <tr>\n",
       "      <th>2787</th>\n",
       "      <td>254.43</td>\n",
       "      <td>0.056</td>\n",
       "      <td>11.0</td>\n",
       "      <td>21.025</td>\n",
       "      <td>50.19</td>\n",
       "      <td>0.77</td>\n",
       "      <td>108.3</td>\n",
       "    </tr>\n",
       "    <tr>\n",
       "      <th>2788</th>\n",
       "      <td>254.53</td>\n",
       "      <td>0.020</td>\n",
       "      <td>3.7</td>\n",
       "      <td>5.707</td>\n",
       "      <td>49.89</td>\n",
       "      <td>0.72</td>\n",
       "      <td>112.3</td>\n",
       "    </tr>\n",
       "    <tr>\n",
       "      <th>2789</th>\n",
       "      <td>254.90</td>\n",
       "      <td>0.059</td>\n",
       "      <td>7.1</td>\n",
       "      <td>45.910</td>\n",
       "      <td>50.50</td>\n",
       "      <td>0.47</td>\n",
       "      <td>114.5</td>\n",
       "    </tr>\n",
       "    <tr>\n",
       "      <th>2790</th>\n",
       "      <td>255.26</td>\n",
       "      <td>0.124</td>\n",
       "      <td>29.8</td>\n",
       "      <td>36.468</td>\n",
       "      <td>50.40</td>\n",
       "      <td>0.94</td>\n",
       "      <td>111.1</td>\n",
       "    </tr>\n",
       "  </tbody>\n",
       "</table>\n",
       "</div>"
      ],
      "text/plain": [
       "      voltage  current  power  energy  frequency  power factor   temp\n",
       "2786   253.82    0.076   16.8  28.387      50.10          0.87  108.4\n",
       "2787   254.43    0.056   11.0  21.025      50.19          0.77  108.3\n",
       "2788   254.53    0.020    3.7   5.707      49.89          0.72  112.3\n",
       "2789   254.90    0.059    7.1  45.910      50.50          0.47  114.5\n",
       "2790   255.26    0.124   29.8  36.468      50.40          0.94  111.1"
      ]
     },
     "execution_count": 70,
     "metadata": {},
     "output_type": "execute_result"
    }
   ],
   "source": [
    "df.tail()"
   ]
  },
  {
   "cell_type": "code",
   "execution_count": 71,
   "metadata": {
    "id": "jp-Us4E4wCol"
   },
   "outputs": [],
   "source": [
    "\n",
    "def classify_fault(row):\n",
    "\n",
    "    conditions = [\n",
    "        {\n",
    "            \"fault_type\": \"Overheating and Overvoltage\",\n",
    "            \"cause\": \"High voltage causing excessive heat or cooling system failure\",\n",
    "            \"condition\": row[\"voltage\"] > 240 and row[\"temp\"] > 90\n",
    "        },\n",
    "        {\n",
    "            \"fault_type\": \"Overvoltage\",\n",
    "            \"cause\": \"Grid surge or faulty voltage regulator\",\n",
    "            \"condition\": row[\"voltage\"] > 240\n",
    "        },\n",
    "        {\n",
    "            \"fault_type\": \"Undervoltage\",\n",
    "            \"cause\": \"Grid instability or transformer overload\",\n",
    "            \"condition\": row[\"voltage\"] < 180\n",
    "        },\n",
    "        {\n",
    "            \"fault_type\": \"Normal Condition\",\n",
    "            \"cause\": \"All parameters within normal operating range\",\n",
    "            \"condition\": True  # Default case\n",
    "        }\n",
    "    ]\n",
    "\n",
    "\n",
    "    for condition in conditions:\n",
    "        if condition[\"condition\"]:\n",
    "            return condition[\"fault_type\"],condition[\"cause\"]#,condition[\"cause\"]"
   ]
  },
  {
   "cell_type": "code",
   "execution_count": 12,
   "metadata": {
    "id": "FFSzd1J2FVNy"
   },
   "outputs": [],
   "source": [
    "# def classify_fault(row):\n",
    "#     conditions = [\n",
    "#         {\n",
    "#             \"fault_type\": \"Overheating and Overvoltage\",\n",
    "#             \"cause\": \"High voltage causing excessive heat or cooling system failure\",\n",
    "#             \"condition\": row[\"voltage\"] > 240 and row[\"temp\"] > 90\n",
    "#         },\n",
    "#         {\n",
    "#             \"fault_type\": \"Overheating\",\n",
    "#             \"cause\": \"Cooling system failure or high ambient temperature\",\n",
    "#             \"condition\": row[\"temp\"] > 90\n",
    "#         },\n",
    "#         {\n",
    "#             \"fault_type\": \"Overvoltage\",\n",
    "#             \"cause\": \"Grid surge or faulty voltage regulator\",\n",
    "#             \"condition\": row[\"voltage\"] > 240\n",
    "#         },\n",
    "#         {\n",
    "#             \"fault_type\": \"Undervoltage\",\n",
    "#             \"cause\": \"Grid instability or transformer overload\",\n",
    "#             \"condition\": row[\"voltage\"] < 180\n",
    "#         },\n",
    "#         {\n",
    "#             \"fault_type\": \"Overheating and Undervoltage\",\n",
    "#             \"cause\": \"Cooling system failure combined with low grid voltage\",\n",
    "#             \"condition\": row[\"voltage\"] < 180 and row[\"temp\"] > 90\n",
    "#         },\n",
    "#         {\n",
    "#             \"fault_type\": \"Normal Condition\",\n",
    "#             \"cause\": \"All parameters within normal operating range\",\n",
    "#             \"condition\": True  # Default case\n",
    "#         }\n",
    "#     ]\n",
    "\n",
    "#     # Iterate and return the first matching condition\n",
    "#     for condition in conditions:\n",
    "#         if condition[\"condition\"]:\n",
    "#             return condition[\"fault_type\"], condition[\"cause\"]\n"
   ]
  },
  {
   "cell_type": "code",
   "execution_count": 72,
   "metadata": {
    "colab": {
     "base_uri": "https://localhost:8080/",
     "height": 206
    },
    "id": "nziWR99mwGFM",
    "outputId": "cd5afc18-71eb-440b-a300-a1e0d1fbd8a8"
   },
   "outputs": [
    {
     "data": {
      "text/html": [
       "<div>\n",
       "<style scoped>\n",
       "    .dataframe tbody tr th:only-of-type {\n",
       "        vertical-align: middle;\n",
       "    }\n",
       "\n",
       "    .dataframe tbody tr th {\n",
       "        vertical-align: top;\n",
       "    }\n",
       "\n",
       "    .dataframe thead th {\n",
       "        text-align: right;\n",
       "    }\n",
       "</style>\n",
       "<table border=\"1\" class=\"dataframe\">\n",
       "  <thead>\n",
       "    <tr style=\"text-align: right;\">\n",
       "      <th></th>\n",
       "      <th>voltage</th>\n",
       "      <th>current</th>\n",
       "      <th>power</th>\n",
       "      <th>energy</th>\n",
       "      <th>frequency</th>\n",
       "      <th>power factor</th>\n",
       "      <th>temp</th>\n",
       "    </tr>\n",
       "  </thead>\n",
       "  <tbody>\n",
       "    <tr>\n",
       "      <th>0</th>\n",
       "      <td>190.66</td>\n",
       "      <td>0.030</td>\n",
       "      <td>6.1</td>\n",
       "      <td>0.007</td>\n",
       "      <td>50.39</td>\n",
       "      <td>0.59</td>\n",
       "      <td>29.6</td>\n",
       "    </tr>\n",
       "    <tr>\n",
       "      <th>1</th>\n",
       "      <td>238.80</td>\n",
       "      <td>0.039</td>\n",
       "      <td>76.6</td>\n",
       "      <td>0.080</td>\n",
       "      <td>49.89</td>\n",
       "      <td>0.69</td>\n",
       "      <td>41.5</td>\n",
       "    </tr>\n",
       "    <tr>\n",
       "      <th>2</th>\n",
       "      <td>180.46</td>\n",
       "      <td>0.054</td>\n",
       "      <td>10.8</td>\n",
       "      <td>0.012</td>\n",
       "      <td>50.40</td>\n",
       "      <td>0.40</td>\n",
       "      <td>28.8</td>\n",
       "    </tr>\n",
       "    <tr>\n",
       "      <th>3</th>\n",
       "      <td>181.76</td>\n",
       "      <td>0.078</td>\n",
       "      <td>13.2</td>\n",
       "      <td>0.013</td>\n",
       "      <td>49.56</td>\n",
       "      <td>0.56</td>\n",
       "      <td>30.3</td>\n",
       "    </tr>\n",
       "    <tr>\n",
       "      <th>4</th>\n",
       "      <td>256.70</td>\n",
       "      <td>0.077</td>\n",
       "      <td>281.7</td>\n",
       "      <td>0.337</td>\n",
       "      <td>50.29</td>\n",
       "      <td>0.98</td>\n",
       "      <td>109.4</td>\n",
       "    </tr>\n",
       "  </tbody>\n",
       "</table>\n",
       "</div>"
      ],
      "text/plain": [
       "   voltage  current  power  energy  frequency  power factor   temp\n",
       "0   190.66    0.030    6.1   0.007      50.39          0.59   29.6\n",
       "1   238.80    0.039   76.6   0.080      49.89          0.69   41.5\n",
       "2   180.46    0.054   10.8   0.012      50.40          0.40   28.8\n",
       "3   181.76    0.078   13.2   0.013      49.56          0.56   30.3\n",
       "4   256.70    0.077  281.7   0.337      50.29          0.98  109.4"
      ]
     },
     "execution_count": 72,
     "metadata": {},
     "output_type": "execute_result"
    }
   ],
   "source": [
    "df.head()"
   ]
  },
  {
   "cell_type": "code",
   "execution_count": 73,
   "metadata": {
    "id": "c244zR81wIdQ"
   },
   "outputs": [],
   "source": [
    "# Apply fault classification\n",
    "df[\"Fault_Type_and_Cause\"] = df.apply(classify_fault, axis=1)\n",
    "df[[\"Fault_Type\", \"Cause\"]] = df[\"Fault_Type_and_Cause\"].apply(pd.Series)\n",
    "df.drop(columns=[\"Fault_Type_and_Cause\"], inplace=True)"
   ]
  },
  {
   "cell_type": "code",
   "execution_count": 74,
   "metadata": {
    "colab": {
     "base_uri": "https://localhost:8080/",
     "height": 206
    },
    "id": "-kYHqfp6yJEW",
    "outputId": "558ffb14-adb3-4653-f784-dd1eb8fec8f3"
   },
   "outputs": [
    {
     "data": {
      "text/html": [
       "<div>\n",
       "<style scoped>\n",
       "    .dataframe tbody tr th:only-of-type {\n",
       "        vertical-align: middle;\n",
       "    }\n",
       "\n",
       "    .dataframe tbody tr th {\n",
       "        vertical-align: top;\n",
       "    }\n",
       "\n",
       "    .dataframe thead th {\n",
       "        text-align: right;\n",
       "    }\n",
       "</style>\n",
       "<table border=\"1\" class=\"dataframe\">\n",
       "  <thead>\n",
       "    <tr style=\"text-align: right;\">\n",
       "      <th></th>\n",
       "      <th>voltage</th>\n",
       "      <th>current</th>\n",
       "      <th>power</th>\n",
       "      <th>energy</th>\n",
       "      <th>frequency</th>\n",
       "      <th>power factor</th>\n",
       "      <th>temp</th>\n",
       "      <th>Fault_Type</th>\n",
       "      <th>Cause</th>\n",
       "    </tr>\n",
       "  </thead>\n",
       "  <tbody>\n",
       "    <tr>\n",
       "      <th>0</th>\n",
       "      <td>190.66</td>\n",
       "      <td>0.030</td>\n",
       "      <td>6.1</td>\n",
       "      <td>0.007</td>\n",
       "      <td>50.39</td>\n",
       "      <td>0.59</td>\n",
       "      <td>29.6</td>\n",
       "      <td>Normal Condition</td>\n",
       "      <td>All parameters within normal operating range</td>\n",
       "    </tr>\n",
       "    <tr>\n",
       "      <th>1</th>\n",
       "      <td>238.80</td>\n",
       "      <td>0.039</td>\n",
       "      <td>76.6</td>\n",
       "      <td>0.080</td>\n",
       "      <td>49.89</td>\n",
       "      <td>0.69</td>\n",
       "      <td>41.5</td>\n",
       "      <td>Normal Condition</td>\n",
       "      <td>All parameters within normal operating range</td>\n",
       "    </tr>\n",
       "    <tr>\n",
       "      <th>2</th>\n",
       "      <td>180.46</td>\n",
       "      <td>0.054</td>\n",
       "      <td>10.8</td>\n",
       "      <td>0.012</td>\n",
       "      <td>50.40</td>\n",
       "      <td>0.40</td>\n",
       "      <td>28.8</td>\n",
       "      <td>Normal Condition</td>\n",
       "      <td>All parameters within normal operating range</td>\n",
       "    </tr>\n",
       "    <tr>\n",
       "      <th>3</th>\n",
       "      <td>181.76</td>\n",
       "      <td>0.078</td>\n",
       "      <td>13.2</td>\n",
       "      <td>0.013</td>\n",
       "      <td>49.56</td>\n",
       "      <td>0.56</td>\n",
       "      <td>30.3</td>\n",
       "      <td>Normal Condition</td>\n",
       "      <td>All parameters within normal operating range</td>\n",
       "    </tr>\n",
       "    <tr>\n",
       "      <th>4</th>\n",
       "      <td>256.70</td>\n",
       "      <td>0.077</td>\n",
       "      <td>281.7</td>\n",
       "      <td>0.337</td>\n",
       "      <td>50.29</td>\n",
       "      <td>0.98</td>\n",
       "      <td>109.4</td>\n",
       "      <td>Overheating and Overvoltage</td>\n",
       "      <td>High voltage causing excessive heat or cooling...</td>\n",
       "    </tr>\n",
       "  </tbody>\n",
       "</table>\n",
       "</div>"
      ],
      "text/plain": [
       "   voltage  current  power  energy  frequency  power factor   temp  \\\n",
       "0   190.66    0.030    6.1   0.007      50.39          0.59   29.6   \n",
       "1   238.80    0.039   76.6   0.080      49.89          0.69   41.5   \n",
       "2   180.46    0.054   10.8   0.012      50.40          0.40   28.8   \n",
       "3   181.76    0.078   13.2   0.013      49.56          0.56   30.3   \n",
       "4   256.70    0.077  281.7   0.337      50.29          0.98  109.4   \n",
       "\n",
       "                    Fault_Type  \\\n",
       "0             Normal Condition   \n",
       "1             Normal Condition   \n",
       "2             Normal Condition   \n",
       "3             Normal Condition   \n",
       "4  Overheating and Overvoltage   \n",
       "\n",
       "                                               Cause  \n",
       "0       All parameters within normal operating range  \n",
       "1       All parameters within normal operating range  \n",
       "2       All parameters within normal operating range  \n",
       "3       All parameters within normal operating range  \n",
       "4  High voltage causing excessive heat or cooling...  "
      ]
     },
     "execution_count": 74,
     "metadata": {},
     "output_type": "execute_result"
    }
   ],
   "source": [
    "df.head()"
   ]
  },
  {
   "cell_type": "code",
   "execution_count": 75,
   "metadata": {
    "colab": {
     "base_uri": "https://localhost:8080/",
     "height": 206
    },
    "id": "JP3wR1vvyLTv",
    "outputId": "ccc571f0-5bd3-4757-990b-6e856e78cf71"
   },
   "outputs": [
    {
     "data": {
      "text/html": [
       "<div>\n",
       "<style scoped>\n",
       "    .dataframe tbody tr th:only-of-type {\n",
       "        vertical-align: middle;\n",
       "    }\n",
       "\n",
       "    .dataframe tbody tr th {\n",
       "        vertical-align: top;\n",
       "    }\n",
       "\n",
       "    .dataframe thead th {\n",
       "        text-align: right;\n",
       "    }\n",
       "</style>\n",
       "<table border=\"1\" class=\"dataframe\">\n",
       "  <thead>\n",
       "    <tr style=\"text-align: right;\">\n",
       "      <th></th>\n",
       "      <th>voltage</th>\n",
       "      <th>current</th>\n",
       "      <th>power</th>\n",
       "      <th>energy</th>\n",
       "      <th>frequency</th>\n",
       "      <th>power factor</th>\n",
       "      <th>temp</th>\n",
       "      <th>Fault_Type</th>\n",
       "      <th>Cause</th>\n",
       "    </tr>\n",
       "  </thead>\n",
       "  <tbody>\n",
       "    <tr>\n",
       "      <th>2786</th>\n",
       "      <td>253.82</td>\n",
       "      <td>0.076</td>\n",
       "      <td>16.8</td>\n",
       "      <td>28.387</td>\n",
       "      <td>50.10</td>\n",
       "      <td>0.87</td>\n",
       "      <td>108.4</td>\n",
       "      <td>Overheating and Overvoltage</td>\n",
       "      <td>High voltage causing excessive heat or cooling...</td>\n",
       "    </tr>\n",
       "    <tr>\n",
       "      <th>2787</th>\n",
       "      <td>254.43</td>\n",
       "      <td>0.056</td>\n",
       "      <td>11.0</td>\n",
       "      <td>21.025</td>\n",
       "      <td>50.19</td>\n",
       "      <td>0.77</td>\n",
       "      <td>108.3</td>\n",
       "      <td>Overheating and Overvoltage</td>\n",
       "      <td>High voltage causing excessive heat or cooling...</td>\n",
       "    </tr>\n",
       "    <tr>\n",
       "      <th>2788</th>\n",
       "      <td>254.53</td>\n",
       "      <td>0.020</td>\n",
       "      <td>3.7</td>\n",
       "      <td>5.707</td>\n",
       "      <td>49.89</td>\n",
       "      <td>0.72</td>\n",
       "      <td>112.3</td>\n",
       "      <td>Overheating and Overvoltage</td>\n",
       "      <td>High voltage causing excessive heat or cooling...</td>\n",
       "    </tr>\n",
       "    <tr>\n",
       "      <th>2789</th>\n",
       "      <td>254.90</td>\n",
       "      <td>0.059</td>\n",
       "      <td>7.1</td>\n",
       "      <td>45.910</td>\n",
       "      <td>50.50</td>\n",
       "      <td>0.47</td>\n",
       "      <td>114.5</td>\n",
       "      <td>Overheating and Overvoltage</td>\n",
       "      <td>High voltage causing excessive heat or cooling...</td>\n",
       "    </tr>\n",
       "    <tr>\n",
       "      <th>2790</th>\n",
       "      <td>255.26</td>\n",
       "      <td>0.124</td>\n",
       "      <td>29.8</td>\n",
       "      <td>36.468</td>\n",
       "      <td>50.40</td>\n",
       "      <td>0.94</td>\n",
       "      <td>111.1</td>\n",
       "      <td>Overheating and Overvoltage</td>\n",
       "      <td>High voltage causing excessive heat or cooling...</td>\n",
       "    </tr>\n",
       "  </tbody>\n",
       "</table>\n",
       "</div>"
      ],
      "text/plain": [
       "      voltage  current  power  energy  frequency  power factor   temp  \\\n",
       "2786   253.82    0.076   16.8  28.387      50.10          0.87  108.4   \n",
       "2787   254.43    0.056   11.0  21.025      50.19          0.77  108.3   \n",
       "2788   254.53    0.020    3.7   5.707      49.89          0.72  112.3   \n",
       "2789   254.90    0.059    7.1  45.910      50.50          0.47  114.5   \n",
       "2790   255.26    0.124   29.8  36.468      50.40          0.94  111.1   \n",
       "\n",
       "                       Fault_Type  \\\n",
       "2786  Overheating and Overvoltage   \n",
       "2787  Overheating and Overvoltage   \n",
       "2788  Overheating and Overvoltage   \n",
       "2789  Overheating and Overvoltage   \n",
       "2790  Overheating and Overvoltage   \n",
       "\n",
       "                                                  Cause  \n",
       "2786  High voltage causing excessive heat or cooling...  \n",
       "2787  High voltage causing excessive heat or cooling...  \n",
       "2788  High voltage causing excessive heat or cooling...  \n",
       "2789  High voltage causing excessive heat or cooling...  \n",
       "2790  High voltage causing excessive heat or cooling...  "
      ]
     },
     "execution_count": 75,
     "metadata": {},
     "output_type": "execute_result"
    }
   ],
   "source": [
    "df.tail()"
   ]
  },
  {
   "cell_type": "code",
   "execution_count": 76,
   "metadata": {
    "colab": {
     "base_uri": "https://localhost:8080/"
    },
    "id": "4qvPQo1MyODX",
    "outputId": "d57b9286-a13c-4980-9bae-958e5cc2945a"
   },
   "outputs": [
    {
     "data": {
      "text/plain": [
       "(2791, 9)"
      ]
     },
     "execution_count": 76,
     "metadata": {},
     "output_type": "execute_result"
    }
   ],
   "source": [
    "df.shape"
   ]
  },
  {
   "cell_type": "code",
   "execution_count": 77,
   "metadata": {
    "colab": {
     "base_uri": "https://localhost:8080/",
     "height": 203
    },
    "id": "ZuiePcW5yQQW",
    "outputId": "818f479d-6ac3-42b3-ae86-ab5a1a71de2a"
   },
   "outputs": [
    {
     "data": {
      "text/plain": [
       "<bound method DataFrame.info of       voltage  current  power  energy  frequency  power factor   temp  \\\n",
       "0      190.66    0.030    6.1   0.007      50.39          0.59   29.6   \n",
       "1      238.80    0.039   76.6   0.080      49.89          0.69   41.5   \n",
       "2      180.46    0.054   10.8   0.012      50.40          0.40   28.8   \n",
       "3      181.76    0.078   13.2   0.013      49.56          0.56   30.3   \n",
       "4      256.70    0.077  281.7   0.337      50.29          0.98  109.4   \n",
       "...       ...      ...    ...     ...        ...           ...    ...   \n",
       "2786   253.82    0.076   16.8  28.387      50.10          0.87  108.4   \n",
       "2787   254.43    0.056   11.0  21.025      50.19          0.77  108.3   \n",
       "2788   254.53    0.020    3.7   5.707      49.89          0.72  112.3   \n",
       "2789   254.90    0.059    7.1  45.910      50.50          0.47  114.5   \n",
       "2790   255.26    0.124   29.8  36.468      50.40          0.94  111.1   \n",
       "\n",
       "                       Fault_Type  \\\n",
       "0                Normal Condition   \n",
       "1                Normal Condition   \n",
       "2                Normal Condition   \n",
       "3                Normal Condition   \n",
       "4     Overheating and Overvoltage   \n",
       "...                           ...   \n",
       "2786  Overheating and Overvoltage   \n",
       "2787  Overheating and Overvoltage   \n",
       "2788  Overheating and Overvoltage   \n",
       "2789  Overheating and Overvoltage   \n",
       "2790  Overheating and Overvoltage   \n",
       "\n",
       "                                                  Cause  \n",
       "0          All parameters within normal operating range  \n",
       "1          All parameters within normal operating range  \n",
       "2          All parameters within normal operating range  \n",
       "3          All parameters within normal operating range  \n",
       "4     High voltage causing excessive heat or cooling...  \n",
       "...                                                 ...  \n",
       "2786  High voltage causing excessive heat or cooling...  \n",
       "2787  High voltage causing excessive heat or cooling...  \n",
       "2788  High voltage causing excessive heat or cooling...  \n",
       "2789  High voltage causing excessive heat or cooling...  \n",
       "2790  High voltage causing excessive heat or cooling...  \n",
       "\n",
       "[2791 rows x 9 columns]>"
      ]
     },
     "execution_count": 77,
     "metadata": {},
     "output_type": "execute_result"
    }
   ],
   "source": [
    "df.info"
   ]
  },
  {
   "cell_type": "code",
   "execution_count": 78,
   "metadata": {
    "colab": {
     "base_uri": "https://localhost:8080/",
     "height": 366
    },
    "id": "JVNgZeswyR9o",
    "outputId": "dee2ca76-7a07-4f2f-8386-b1476e65aa2d"
   },
   "outputs": [
    {
     "data": {
      "text/plain": [
       "voltage         0\n",
       "current         0\n",
       "power           0\n",
       "energy          0\n",
       "frequency       0\n",
       "power factor    0\n",
       "temp            0\n",
       "Fault_Type      0\n",
       "Cause           0\n",
       "dtype: int64"
      ]
     },
     "execution_count": 78,
     "metadata": {},
     "output_type": "execute_result"
    }
   ],
   "source": [
    "df.isnull().sum()"
   ]
  },
  {
   "cell_type": "code",
   "execution_count": 79,
   "metadata": {
    "colab": {
     "base_uri": "https://localhost:8080/",
     "height": 241
    },
    "id": "e211vBBayXdZ",
    "outputId": "6774d56c-b009-4acd-ee88-7b4ba0d7abbb"
   },
   "outputs": [
    {
     "data": {
      "text/plain": [
       "Fault_Type                   Cause                                                        \n",
       "Normal Condition             All parameters within normal operating range                     1127\n",
       "Overvoltage                  Grid surge or faulty voltage regulator                           1111\n",
       "Overheating and Overvoltage  High voltage causing excessive heat or cooling system failure     493\n",
       "Undervoltage                 Grid instability or transformer overload                           60\n",
       "Name: count, dtype: int64"
      ]
     },
     "execution_count": 79,
     "metadata": {},
     "output_type": "execute_result"
    }
   ],
   "source": [
    "df[[\"Fault_Type\", \"Cause\"]].value_counts()"
   ]
  },
  {
   "cell_type": "code",
   "execution_count": 80,
   "metadata": {
    "id": "Kf9Nh7h-yagw"
   },
   "outputs": [],
   "source": [
    "X = df.drop(columns=[\"Fault_Type\", \"Cause\"])\n",
    "y = df[\"Fault_Type\"]"
   ]
  },
  {
   "cell_type": "code",
   "execution_count": 81,
   "metadata": {
    "colab": {
     "base_uri": "https://localhost:8080/"
    },
    "id": "VVfvfTW0ycF8",
    "outputId": "6abeeb59-bd0a-4123-97b2-0a9fe95fb2b6"
   },
   "outputs": [
    {
     "name": "stdout",
     "output_type": "stream",
     "text": [
      "      voltage  current  power  energy  frequency  power factor   temp\n",
      "0      190.66    0.030    6.1   0.007      50.39          0.59   29.6\n",
      "1      238.80    0.039   76.6   0.080      49.89          0.69   41.5\n",
      "2      180.46    0.054   10.8   0.012      50.40          0.40   28.8\n",
      "3      181.76    0.078   13.2   0.013      49.56          0.56   30.3\n",
      "4      256.70    0.077  281.7   0.337      50.29          0.98  109.4\n",
      "...       ...      ...    ...     ...        ...           ...    ...\n",
      "2786   253.82    0.076   16.8  28.387      50.10          0.87  108.4\n",
      "2787   254.43    0.056   11.0  21.025      50.19          0.77  108.3\n",
      "2788   254.53    0.020    3.7   5.707      49.89          0.72  112.3\n",
      "2789   254.90    0.059    7.1  45.910      50.50          0.47  114.5\n",
      "2790   255.26    0.124   29.8  36.468      50.40          0.94  111.1\n",
      "\n",
      "[2791 rows x 7 columns]\n"
     ]
    }
   ],
   "source": [
    "print(X)"
   ]
  },
  {
   "cell_type": "code",
   "execution_count": 82,
   "metadata": {
    "colab": {
     "base_uri": "https://localhost:8080/"
    },
    "id": "lzV9z2XAydpr",
    "outputId": "5734131d-ef30-4fb4-a923-0999dab44b0b"
   },
   "outputs": [
    {
     "name": "stdout",
     "output_type": "stream",
     "text": [
      "0                  Normal Condition\n",
      "1                  Normal Condition\n",
      "2                  Normal Condition\n",
      "3                  Normal Condition\n",
      "4       Overheating and Overvoltage\n",
      "                   ...             \n",
      "2786    Overheating and Overvoltage\n",
      "2787    Overheating and Overvoltage\n",
      "2788    Overheating and Overvoltage\n",
      "2789    Overheating and Overvoltage\n",
      "2790    Overheating and Overvoltage\n",
      "Name: Fault_Type, Length: 2791, dtype: object\n"
     ]
    }
   ],
   "source": [
    "print(y)"
   ]
  },
  {
   "cell_type": "code",
   "execution_count": 83,
   "metadata": {
    "id": "fTRQirYEyfeH"
   },
   "outputs": [],
   "source": [
    "X_train, X_test, y_train, y_test = train_test_split(X, y, test_size=0.2, random_state=42)"
   ]
  },
  {
   "cell_type": "code",
   "execution_count": 84,
   "metadata": {
    "id": "jdEonGSlyhs5"
   },
   "outputs": [],
   "source": [
    "# Label Encoding\n",
    "label_encoder = LabelEncoder()\n",
    "y_encoded = label_encoder.fit_transform(y)"
   ]
  },
  {
   "cell_type": "code",
   "execution_count": 85,
   "metadata": {
    "colab": {
     "base_uri": "https://localhost:8080/"
    },
    "id": "VPsqsgVxyk61",
    "outputId": "6be48fa5-06f8-4667-ae4d-19ab17be7dd9"
   },
   "outputs": [
    {
     "name": "stdout",
     "output_type": "stream",
     "text": [
      "Label Encoding Mapping: {'Normal Condition': 0, 'Overheating and Overvoltage': 1, 'Overvoltage': 2, 'Undervoltage': 3}\n"
     ]
    }
   ],
   "source": [
    "label_mapping = dict(zip(label_encoder.classes_, label_encoder.transform(label_encoder.classes_)))\n",
    "print(\"Label Encoding Mapping:\", label_mapping)"
   ]
  },
  {
   "cell_type": "code",
   "execution_count": 86,
   "metadata": {
    "id": "rgivxcL4ym57"
   },
   "outputs": [],
   "source": [
    "# Standardization\n",
    "scaler = StandardScaler()\n",
    "X_train_scaled = scaler.fit_transform(X_train)\n",
    "X_test_scaled = scaler.transform(X_test)"
   ]
  },
  {
   "cell_type": "code",
   "execution_count": 87,
   "metadata": {
    "id": "SGNN4W8Xyoi-"
   },
   "outputs": [],
   "source": [
    "# Convert scaled data back to DataFrame\n",
    "X_train_scaled = pd.DataFrame(X_train_scaled, columns=X_train.columns)\n",
    "X_test_scaled = pd.DataFrame(X_test_scaled, columns=X_test.columns)"
   ]
  },
  {
   "cell_type": "code",
   "execution_count": 88,
   "metadata": {
    "colab": {
     "base_uri": "https://localhost:8080/"
    },
    "id": "Q4fMaNxPyqcz",
    "outputId": "66c7ef21-c8b6-42b1-965d-cc4bbebc4e57"
   },
   "outputs": [
    {
     "data": {
      "text/plain": [
       "((2232, 7), (559, 7))"
      ]
     },
     "execution_count": 88,
     "metadata": {},
     "output_type": "execute_result"
    }
   ],
   "source": [
    "X_train.shape, X_test.shape"
   ]
  },
  {
   "cell_type": "code",
   "execution_count": 89,
   "metadata": {
    "colab": {
     "base_uri": "https://localhost:8080/"
    },
    "id": "Oi4-dJkvyr0s",
    "outputId": "1e452260-d7f3-400f-9aba-6d712c923ab5"
   },
   "outputs": [
    {
     "data": {
      "text/plain": [
       "array([2.37306232e+02, 7.05376344e-02, 3.10889785e+01, 1.38193477e+01,\n",
       "       5.00105466e+01, 6.48346774e-01, 6.36511975e+01])"
      ]
     },
     "execution_count": 89,
     "metadata": {},
     "output_type": "execute_result"
    }
   ],
   "source": [
    "scaler.mean_"
   ]
  },
  {
   "cell_type": "code",
   "execution_count": 90,
   "metadata": {
    "colab": {
     "base_uri": "https://localhost:8080/",
     "height": 423
    },
    "id": "kcHCDUTHytQZ",
    "outputId": "b0ebe7fe-2511-4d6e-b741-69e4031c20ba"
   },
   "outputs": [
    {
     "data": {
      "text/html": [
       "<div>\n",
       "<style scoped>\n",
       "    .dataframe tbody tr th:only-of-type {\n",
       "        vertical-align: middle;\n",
       "    }\n",
       "\n",
       "    .dataframe tbody tr th {\n",
       "        vertical-align: top;\n",
       "    }\n",
       "\n",
       "    .dataframe thead th {\n",
       "        text-align: right;\n",
       "    }\n",
       "</style>\n",
       "<table border=\"1\" class=\"dataframe\">\n",
       "  <thead>\n",
       "    <tr style=\"text-align: right;\">\n",
       "      <th></th>\n",
       "      <th>voltage</th>\n",
       "      <th>current</th>\n",
       "      <th>power</th>\n",
       "      <th>energy</th>\n",
       "      <th>frequency</th>\n",
       "      <th>power factor</th>\n",
       "      <th>temp</th>\n",
       "    </tr>\n",
       "  </thead>\n",
       "  <tbody>\n",
       "    <tr>\n",
       "      <th>0</th>\n",
       "      <td>0.502917</td>\n",
       "      <td>-0.848899</td>\n",
       "      <td>-0.315344</td>\n",
       "      <td>0.584433</td>\n",
       "      <td>1.414949</td>\n",
       "      <td>1.875031</td>\n",
       "      <td>0.498403</td>\n",
       "    </tr>\n",
       "    <tr>\n",
       "      <th>1</th>\n",
       "      <td>0.677624</td>\n",
       "      <td>-0.616211</td>\n",
       "      <td>-0.284712</td>\n",
       "      <td>-0.783166</td>\n",
       "      <td>-1.384170</td>\n",
       "      <td>0.010276</td>\n",
       "      <td>1.083599</td>\n",
       "    </tr>\n",
       "    <tr>\n",
       "      <th>2</th>\n",
       "      <td>0.556457</td>\n",
       "      <td>-0.217318</td>\n",
       "      <td>-0.241826</td>\n",
       "      <td>-0.782940</td>\n",
       "      <td>0.551023</td>\n",
       "      <td>0.134593</td>\n",
       "      <td>0.671898</td>\n",
       "    </tr>\n",
       "    <tr>\n",
       "      <th>3</th>\n",
       "      <td>-1.252042</td>\n",
       "      <td>-1.646686</td>\n",
       "      <td>-0.410304</td>\n",
       "      <td>-0.783620</td>\n",
       "      <td>0.032668</td>\n",
       "      <td>0.010276</td>\n",
       "      <td>-1.318695</td>\n",
       "    </tr>\n",
       "    <tr>\n",
       "      <th>4</th>\n",
       "      <td>-0.815274</td>\n",
       "      <td>-1.081587</td>\n",
       "      <td>0.770571</td>\n",
       "      <td>-0.779253</td>\n",
       "      <td>1.103936</td>\n",
       "      <td>0.010276</td>\n",
       "      <td>-0.766615</td>\n",
       "    </tr>\n",
       "    <tr>\n",
       "      <th>...</th>\n",
       "      <td>...</td>\n",
       "      <td>...</td>\n",
       "      <td>...</td>\n",
       "      <td>...</td>\n",
       "      <td>...</td>\n",
       "      <td>...</td>\n",
       "      <td>...</td>\n",
       "    </tr>\n",
       "    <tr>\n",
       "      <th>2227</th>\n",
       "      <td>0.498409</td>\n",
       "      <td>0.447504</td>\n",
       "      <td>-0.257143</td>\n",
       "      <td>0.823739</td>\n",
       "      <td>-0.520244</td>\n",
       "      <td>0.258910</td>\n",
       "      <td>0.483409</td>\n",
       "    </tr>\n",
       "    <tr>\n",
       "      <th>2228</th>\n",
       "      <td>0.065587</td>\n",
       "      <td>0.513986</td>\n",
       "      <td>-0.319939</td>\n",
       "      <td>2.263204</td>\n",
       "      <td>1.587734</td>\n",
       "      <td>-0.922101</td>\n",
       "      <td>-0.878523</td>\n",
       "    </tr>\n",
       "    <tr>\n",
       "      <th>2229</th>\n",
       "      <td>0.084748</td>\n",
       "      <td>1.145567</td>\n",
       "      <td>-0.258674</td>\n",
       "      <td>0.093797</td>\n",
       "      <td>-1.142270</td>\n",
       "      <td>-0.486992</td>\n",
       "      <td>-0.856142</td>\n",
       "    </tr>\n",
       "    <tr>\n",
       "      <th>2230</th>\n",
       "      <td>0.213806</td>\n",
       "      <td>1.810389</td>\n",
       "      <td>-0.270927</td>\n",
       "      <td>-0.070921</td>\n",
       "      <td>1.587734</td>\n",
       "      <td>-1.295052</td>\n",
       "      <td>-0.235861</td>\n",
       "    </tr>\n",
       "    <tr>\n",
       "      <th>2231</th>\n",
       "      <td>-0.133917</td>\n",
       "      <td>-1.347516</td>\n",
       "      <td>-0.378140</td>\n",
       "      <td>1.711366</td>\n",
       "      <td>0.309124</td>\n",
       "      <td>1.626397</td>\n",
       "      <td>-1.012813</td>\n",
       "    </tr>\n",
       "  </tbody>\n",
       "</table>\n",
       "<p>2232 rows × 7 columns</p>\n",
       "</div>"
      ],
      "text/plain": [
       "       voltage   current     power    energy  frequency  power factor  \\\n",
       "0     0.502917 -0.848899 -0.315344  0.584433   1.414949      1.875031   \n",
       "1     0.677624 -0.616211 -0.284712 -0.783166  -1.384170      0.010276   \n",
       "2     0.556457 -0.217318 -0.241826 -0.782940   0.551023      0.134593   \n",
       "3    -1.252042 -1.646686 -0.410304 -0.783620   0.032668      0.010276   \n",
       "4    -0.815274 -1.081587  0.770571 -0.779253   1.103936      0.010276   \n",
       "...        ...       ...       ...       ...        ...           ...   \n",
       "2227  0.498409  0.447504 -0.257143  0.823739  -0.520244      0.258910   \n",
       "2228  0.065587  0.513986 -0.319939  2.263204   1.587734     -0.922101   \n",
       "2229  0.084748  1.145567 -0.258674  0.093797  -1.142270     -0.486992   \n",
       "2230  0.213806  1.810389 -0.270927 -0.070921   1.587734     -1.295052   \n",
       "2231 -0.133917 -1.347516 -0.378140  1.711366   0.309124      1.626397   \n",
       "\n",
       "          temp  \n",
       "0     0.498403  \n",
       "1     1.083599  \n",
       "2     0.671898  \n",
       "3    -1.318695  \n",
       "4    -0.766615  \n",
       "...        ...  \n",
       "2227  0.483409  \n",
       "2228 -0.878523  \n",
       "2229 -0.856142  \n",
       "2230 -0.235861  \n",
       "2231 -1.012813  \n",
       "\n",
       "[2232 rows x 7 columns]"
      ]
     },
     "execution_count": 90,
     "metadata": {},
     "output_type": "execute_result"
    }
   ],
   "source": [
    "X_train_scaled # transformed scaled value by Dataframe"
   ]
  },
  {
   "cell_type": "code",
   "execution_count": 91,
   "metadata": {
    "colab": {
     "base_uri": "https://localhost:8080/",
     "height": 300
    },
    "id": "RlNHcEhNyu3q",
    "outputId": "28fc69d6-5ac9-47f5-c99c-4f021a2ec905"
   },
   "outputs": [
    {
     "data": {
      "text/html": [
       "<div>\n",
       "<style scoped>\n",
       "    .dataframe tbody tr th:only-of-type {\n",
       "        vertical-align: middle;\n",
       "    }\n",
       "\n",
       "    .dataframe tbody tr th {\n",
       "        vertical-align: top;\n",
       "    }\n",
       "\n",
       "    .dataframe thead th {\n",
       "        text-align: right;\n",
       "    }\n",
       "</style>\n",
       "<table border=\"1\" class=\"dataframe\">\n",
       "  <thead>\n",
       "    <tr style=\"text-align: right;\">\n",
       "      <th></th>\n",
       "      <th>voltage</th>\n",
       "      <th>current</th>\n",
       "      <th>power</th>\n",
       "      <th>energy</th>\n",
       "      <th>frequency</th>\n",
       "      <th>power factor</th>\n",
       "      <th>temp</th>\n",
       "    </tr>\n",
       "  </thead>\n",
       "  <tbody>\n",
       "    <tr>\n",
       "      <th>count</th>\n",
       "      <td>2232.0</td>\n",
       "      <td>2232.0</td>\n",
       "      <td>2232.0</td>\n",
       "      <td>2232.0</td>\n",
       "      <td>2232.0</td>\n",
       "      <td>2232.0</td>\n",
       "      <td>2232.0</td>\n",
       "    </tr>\n",
       "    <tr>\n",
       "      <th>mean</th>\n",
       "      <td>237.3</td>\n",
       "      <td>0.1</td>\n",
       "      <td>31.1</td>\n",
       "      <td>13.8</td>\n",
       "      <td>50.0</td>\n",
       "      <td>0.6</td>\n",
       "      <td>63.7</td>\n",
       "    </tr>\n",
       "    <tr>\n",
       "      <th>std</th>\n",
       "      <td>17.7</td>\n",
       "      <td>0.0</td>\n",
       "      <td>65.3</td>\n",
       "      <td>17.6</td>\n",
       "      <td>0.3</td>\n",
       "      <td>0.2</td>\n",
       "      <td>26.8</td>\n",
       "    </tr>\n",
       "    <tr>\n",
       "      <th>min</th>\n",
       "      <td>160.1</td>\n",
       "      <td>0.0</td>\n",
       "      <td>2.0</td>\n",
       "      <td>0.0</td>\n",
       "      <td>49.5</td>\n",
       "      <td>0.4</td>\n",
       "      <td>28.1</td>\n",
       "    </tr>\n",
       "    <tr>\n",
       "      <th>25%</th>\n",
       "      <td>233.7</td>\n",
       "      <td>0.1</td>\n",
       "      <td>10.6</td>\n",
       "      <td>0.0</td>\n",
       "      <td>49.8</td>\n",
       "      <td>0.5</td>\n",
       "      <td>36.6</td>\n",
       "    </tr>\n",
       "    <tr>\n",
       "      <th>50%</th>\n",
       "      <td>243.3</td>\n",
       "      <td>0.1</td>\n",
       "      <td>14.5</td>\n",
       "      <td>0.8</td>\n",
       "      <td>50.0</td>\n",
       "      <td>0.6</td>\n",
       "      <td>69.7</td>\n",
       "    </tr>\n",
       "    <tr>\n",
       "      <th>75%</th>\n",
       "      <td>248.2</td>\n",
       "      <td>0.1</td>\n",
       "      <td>18.0</td>\n",
       "      <td>27.6</td>\n",
       "      <td>50.3</td>\n",
       "      <td>0.8</td>\n",
       "      <td>86.4</td>\n",
       "    </tr>\n",
       "    <tr>\n",
       "      <th>max</th>\n",
       "      <td>270.0</td>\n",
       "      <td>0.1</td>\n",
       "      <td>348.4</td>\n",
       "      <td>54.9</td>\n",
       "      <td>50.5</td>\n",
       "      <td>1.0</td>\n",
       "      <td>114.9</td>\n",
       "    </tr>\n",
       "  </tbody>\n",
       "</table>\n",
       "</div>"
      ],
      "text/plain": [
       "       voltage  current   power  energy  frequency  power factor    temp\n",
       "count   2232.0   2232.0  2232.0  2232.0     2232.0        2232.0  2232.0\n",
       "mean     237.3      0.1    31.1    13.8       50.0           0.6    63.7\n",
       "std       17.7      0.0    65.3    17.6        0.3           0.2    26.8\n",
       "min      160.1      0.0     2.0     0.0       49.5           0.4    28.1\n",
       "25%      233.7      0.1    10.6     0.0       49.8           0.5    36.6\n",
       "50%      243.3      0.1    14.5     0.8       50.0           0.6    69.7\n",
       "75%      248.2      0.1    18.0    27.6       50.3           0.8    86.4\n",
       "max      270.0      0.1   348.4    54.9       50.5           1.0   114.9"
      ]
     },
     "execution_count": 91,
     "metadata": {},
     "output_type": "execute_result"
    }
   ],
   "source": [
    "np.round(X_train.describe(),1)"
   ]
  },
  {
   "cell_type": "code",
   "execution_count": 92,
   "metadata": {
    "colab": {
     "base_uri": "https://localhost:8080/",
     "height": 300
    },
    "id": "XmntCb-zywt1",
    "outputId": "85b74203-2568-406c-b9fa-d9b1c5ec1f2a"
   },
   "outputs": [
    {
     "data": {
      "text/html": [
       "<div>\n",
       "<style scoped>\n",
       "    .dataframe tbody tr th:only-of-type {\n",
       "        vertical-align: middle;\n",
       "    }\n",
       "\n",
       "    .dataframe tbody tr th {\n",
       "        vertical-align: top;\n",
       "    }\n",
       "\n",
       "    .dataframe thead th {\n",
       "        text-align: right;\n",
       "    }\n",
       "</style>\n",
       "<table border=\"1\" class=\"dataframe\">\n",
       "  <thead>\n",
       "    <tr style=\"text-align: right;\">\n",
       "      <th></th>\n",
       "      <th>voltage</th>\n",
       "      <th>current</th>\n",
       "      <th>power</th>\n",
       "      <th>energy</th>\n",
       "      <th>frequency</th>\n",
       "      <th>power factor</th>\n",
       "      <th>temp</th>\n",
       "    </tr>\n",
       "  </thead>\n",
       "  <tbody>\n",
       "    <tr>\n",
       "      <th>count</th>\n",
       "      <td>2232.0</td>\n",
       "      <td>2232.0</td>\n",
       "      <td>2232.0</td>\n",
       "      <td>2232.0</td>\n",
       "      <td>2232.0</td>\n",
       "      <td>2232.0</td>\n",
       "      <td>2232.0</td>\n",
       "    </tr>\n",
       "    <tr>\n",
       "      <th>mean</th>\n",
       "      <td>0.0</td>\n",
       "      <td>-0.0</td>\n",
       "      <td>-0.0</td>\n",
       "      <td>0.0</td>\n",
       "      <td>-0.0</td>\n",
       "      <td>0.0</td>\n",
       "      <td>-0.0</td>\n",
       "    </tr>\n",
       "    <tr>\n",
       "      <th>std</th>\n",
       "      <td>1.0</td>\n",
       "      <td>1.0</td>\n",
       "      <td>1.0</td>\n",
       "      <td>1.0</td>\n",
       "      <td>1.0</td>\n",
       "      <td>1.0</td>\n",
       "      <td>1.0</td>\n",
       "    </tr>\n",
       "    <tr>\n",
       "      <th>min</th>\n",
       "      <td>-4.4</td>\n",
       "      <td>-1.7</td>\n",
       "      <td>-0.4</td>\n",
       "      <td>-0.8</td>\n",
       "      <td>-1.8</td>\n",
       "      <td>-1.5</td>\n",
       "      <td>-1.3</td>\n",
       "    </tr>\n",
       "    <tr>\n",
       "      <th>25%</th>\n",
       "      <td>-0.2</td>\n",
       "      <td>-0.6</td>\n",
       "      <td>-0.3</td>\n",
       "      <td>-0.8</td>\n",
       "      <td>-0.9</td>\n",
       "      <td>-0.9</td>\n",
       "      <td>-1.0</td>\n",
       "    </tr>\n",
       "    <tr>\n",
       "      <th>50%</th>\n",
       "      <td>0.3</td>\n",
       "      <td>-0.2</td>\n",
       "      <td>-0.3</td>\n",
       "      <td>-0.7</td>\n",
       "      <td>-0.0</td>\n",
       "      <td>-0.1</td>\n",
       "      <td>0.2</td>\n",
       "    </tr>\n",
       "    <tr>\n",
       "      <th>75%</th>\n",
       "      <td>0.6</td>\n",
       "      <td>0.5</td>\n",
       "      <td>-0.2</td>\n",
       "      <td>0.8</td>\n",
       "      <td>0.9</td>\n",
       "      <td>0.6</td>\n",
       "      <td>0.8</td>\n",
       "    </tr>\n",
       "    <tr>\n",
       "      <th>max</th>\n",
       "      <td>1.8</td>\n",
       "      <td>2.6</td>\n",
       "      <td>4.9</td>\n",
       "      <td>2.3</td>\n",
       "      <td>1.7</td>\n",
       "      <td>2.1</td>\n",
       "      <td>1.9</td>\n",
       "    </tr>\n",
       "  </tbody>\n",
       "</table>\n",
       "</div>"
      ],
      "text/plain": [
       "       voltage  current   power  energy  frequency  power factor    temp\n",
       "count   2232.0   2232.0  2232.0  2232.0     2232.0        2232.0  2232.0\n",
       "mean       0.0     -0.0    -0.0     0.0       -0.0           0.0    -0.0\n",
       "std        1.0      1.0     1.0     1.0        1.0           1.0     1.0\n",
       "min       -4.4     -1.7    -0.4    -0.8       -1.8          -1.5    -1.3\n",
       "25%       -0.2     -0.6    -0.3    -0.8       -0.9          -0.9    -1.0\n",
       "50%        0.3     -0.2    -0.3    -0.7       -0.0          -0.1     0.2\n",
       "75%        0.6      0.5    -0.2     0.8        0.9           0.6     0.8\n",
       "max        1.8      2.6     4.9     2.3        1.7           2.1     1.9"
      ]
     },
     "execution_count": 92,
     "metadata": {},
     "output_type": "execute_result"
    }
   ],
   "source": [
    "np.round(X_train_scaled.describe(),1)"
   ]
  },
  {
   "cell_type": "code",
   "execution_count": 93,
   "metadata": {
    "colab": {
     "base_uri": "https://localhost:8080/",
     "height": 80
    },
    "id": "ooyK0OBqyy6v",
    "outputId": "1002fbed-3d41-455f-861c-10245af9fc1d"
   },
   "outputs": [
    {
     "data": {
      "text/html": [
       "<style>#sk-container-id-4 {color: black;}#sk-container-id-4 pre{padding: 0;}#sk-container-id-4 div.sk-toggleable {background-color: white;}#sk-container-id-4 label.sk-toggleable__label {cursor: pointer;display: block;width: 100%;margin-bottom: 0;padding: 0.3em;box-sizing: border-box;text-align: center;}#sk-container-id-4 label.sk-toggleable__label-arrow:before {content: \"▸\";float: left;margin-right: 0.25em;color: #696969;}#sk-container-id-4 label.sk-toggleable__label-arrow:hover:before {color: black;}#sk-container-id-4 div.sk-estimator:hover label.sk-toggleable__label-arrow:before {color: black;}#sk-container-id-4 div.sk-toggleable__content {max-height: 0;max-width: 0;overflow: hidden;text-align: left;background-color: #f0f8ff;}#sk-container-id-4 div.sk-toggleable__content pre {margin: 0.2em;color: black;border-radius: 0.25em;background-color: #f0f8ff;}#sk-container-id-4 input.sk-toggleable__control:checked~div.sk-toggleable__content {max-height: 200px;max-width: 100%;overflow: auto;}#sk-container-id-4 input.sk-toggleable__control:checked~label.sk-toggleable__label-arrow:before {content: \"▾\";}#sk-container-id-4 div.sk-estimator input.sk-toggleable__control:checked~label.sk-toggleable__label {background-color: #d4ebff;}#sk-container-id-4 div.sk-label input.sk-toggleable__control:checked~label.sk-toggleable__label {background-color: #d4ebff;}#sk-container-id-4 input.sk-hidden--visually {border: 0;clip: rect(1px 1px 1px 1px);clip: rect(1px, 1px, 1px, 1px);height: 1px;margin: -1px;overflow: hidden;padding: 0;position: absolute;width: 1px;}#sk-container-id-4 div.sk-estimator {font-family: monospace;background-color: #f0f8ff;border: 1px dotted black;border-radius: 0.25em;box-sizing: border-box;margin-bottom: 0.5em;}#sk-container-id-4 div.sk-estimator:hover {background-color: #d4ebff;}#sk-container-id-4 div.sk-parallel-item::after {content: \"\";width: 100%;border-bottom: 1px solid gray;flex-grow: 1;}#sk-container-id-4 div.sk-label:hover label.sk-toggleable__label {background-color: #d4ebff;}#sk-container-id-4 div.sk-serial::before {content: \"\";position: absolute;border-left: 1px solid gray;box-sizing: border-box;top: 0;bottom: 0;left: 50%;z-index: 0;}#sk-container-id-4 div.sk-serial {display: flex;flex-direction: column;align-items: center;background-color: white;padding-right: 0.2em;padding-left: 0.2em;position: relative;}#sk-container-id-4 div.sk-item {position: relative;z-index: 1;}#sk-container-id-4 div.sk-parallel {display: flex;align-items: stretch;justify-content: center;background-color: white;position: relative;}#sk-container-id-4 div.sk-item::before, #sk-container-id-4 div.sk-parallel-item::before {content: \"\";position: absolute;border-left: 1px solid gray;box-sizing: border-box;top: 0;bottom: 0;left: 50%;z-index: -1;}#sk-container-id-4 div.sk-parallel-item {display: flex;flex-direction: column;z-index: 1;position: relative;background-color: white;}#sk-container-id-4 div.sk-parallel-item:first-child::after {align-self: flex-end;width: 50%;}#sk-container-id-4 div.sk-parallel-item:last-child::after {align-self: flex-start;width: 50%;}#sk-container-id-4 div.sk-parallel-item:only-child::after {width: 0;}#sk-container-id-4 div.sk-dashed-wrapped {border: 1px dashed gray;margin: 0 0.4em 0.5em 0.4em;box-sizing: border-box;padding-bottom: 0.4em;background-color: white;}#sk-container-id-4 div.sk-label label {font-family: monospace;font-weight: bold;display: inline-block;line-height: 1.2em;}#sk-container-id-4 div.sk-label-container {text-align: center;}#sk-container-id-4 div.sk-container {/* jupyter's `normalize.less` sets `[hidden] { display: none; }` but bootstrap.min.css set `[hidden] { display: none !important; }` so we also need the `!important` here to be able to override the default hidden behavior on the sphinx rendered scikit-learn.org. See: https://github.com/scikit-learn/scikit-learn/issues/21755 */display: inline-block !important;position: relative;}#sk-container-id-4 div.sk-text-repr-fallback {display: none;}</style><div id=\"sk-container-id-4\" class=\"sk-top-container\"><div class=\"sk-text-repr-fallback\"><pre>RandomForestClassifier(random_state=42)</pre><b>In a Jupyter environment, please rerun this cell to show the HTML representation or trust the notebook. <br />On GitHub, the HTML representation is unable to render, please try loading this page with nbviewer.org.</b></div><div class=\"sk-container\" hidden><div class=\"sk-item\"><div class=\"sk-estimator sk-toggleable\"><input class=\"sk-toggleable__control sk-hidden--visually\" id=\"sk-estimator-id-4\" type=\"checkbox\" checked><label for=\"sk-estimator-id-4\" class=\"sk-toggleable__label sk-toggleable__label-arrow\">RandomForestClassifier</label><div class=\"sk-toggleable__content\"><pre>RandomForestClassifier(random_state=42)</pre></div></div></div></div></div>"
      ],
      "text/plain": [
       "RandomForestClassifier(random_state=42)"
      ]
     },
     "execution_count": 93,
     "metadata": {},
     "output_type": "execute_result"
    }
   ],
   "source": [
    "# RandomForestClassifier\n",
    "rf_classifier = RandomForestClassifier(random_state=42)\n",
    "\n",
    "# Fit the model on training data\n",
    "rf_classifier.fit(X_train, y_train)\n"
   ]
  },
  {
   "cell_type": "code",
   "execution_count": 95,
   "metadata": {
    "colab": {
     "base_uri": "https://localhost:8080/"
    },
    "id": "cA_EgH2B0KoW",
    "outputId": "be590688-5e92-4114-ab7e-bdb484e713bd"
   },
   "outputs": [
    {
     "name": "stdout",
     "output_type": "stream",
     "text": [
      "Accuracy Score: 1.0\n"
     ]
    }
   ],
   "source": [
    "# Predict on test data\n",
    "y_pred = rf_classifier.predict(X_test)\n",
    "\n",
    "# Calculate accuracy\n",
    "accuracy = accuracy_score(y_test, y_pred)\n",
    "print(\"Accuracy Score:\", accuracy)"
   ]
  },
  {
   "cell_type": "code",
   "execution_count": 96,
   "metadata": {
    "colab": {
     "base_uri": "https://localhost:8080/",
     "height": 80
    },
    "id": "zx1ueSk0z28U",
    "outputId": "3955f601-2199-4d0a-e132-985060cbbc3a"
   },
   "outputs": [
    {
     "data": {
      "text/html": [
       "<style>#sk-container-id-5 {color: black;}#sk-container-id-5 pre{padding: 0;}#sk-container-id-5 div.sk-toggleable {background-color: white;}#sk-container-id-5 label.sk-toggleable__label {cursor: pointer;display: block;width: 100%;margin-bottom: 0;padding: 0.3em;box-sizing: border-box;text-align: center;}#sk-container-id-5 label.sk-toggleable__label-arrow:before {content: \"▸\";float: left;margin-right: 0.25em;color: #696969;}#sk-container-id-5 label.sk-toggleable__label-arrow:hover:before {color: black;}#sk-container-id-5 div.sk-estimator:hover label.sk-toggleable__label-arrow:before {color: black;}#sk-container-id-5 div.sk-toggleable__content {max-height: 0;max-width: 0;overflow: hidden;text-align: left;background-color: #f0f8ff;}#sk-container-id-5 div.sk-toggleable__content pre {margin: 0.2em;color: black;border-radius: 0.25em;background-color: #f0f8ff;}#sk-container-id-5 input.sk-toggleable__control:checked~div.sk-toggleable__content {max-height: 200px;max-width: 100%;overflow: auto;}#sk-container-id-5 input.sk-toggleable__control:checked~label.sk-toggleable__label-arrow:before {content: \"▾\";}#sk-container-id-5 div.sk-estimator input.sk-toggleable__control:checked~label.sk-toggleable__label {background-color: #d4ebff;}#sk-container-id-5 div.sk-label input.sk-toggleable__control:checked~label.sk-toggleable__label {background-color: #d4ebff;}#sk-container-id-5 input.sk-hidden--visually {border: 0;clip: rect(1px 1px 1px 1px);clip: rect(1px, 1px, 1px, 1px);height: 1px;margin: -1px;overflow: hidden;padding: 0;position: absolute;width: 1px;}#sk-container-id-5 div.sk-estimator {font-family: monospace;background-color: #f0f8ff;border: 1px dotted black;border-radius: 0.25em;box-sizing: border-box;margin-bottom: 0.5em;}#sk-container-id-5 div.sk-estimator:hover {background-color: #d4ebff;}#sk-container-id-5 div.sk-parallel-item::after {content: \"\";width: 100%;border-bottom: 1px solid gray;flex-grow: 1;}#sk-container-id-5 div.sk-label:hover label.sk-toggleable__label {background-color: #d4ebff;}#sk-container-id-5 div.sk-serial::before {content: \"\";position: absolute;border-left: 1px solid gray;box-sizing: border-box;top: 0;bottom: 0;left: 50%;z-index: 0;}#sk-container-id-5 div.sk-serial {display: flex;flex-direction: column;align-items: center;background-color: white;padding-right: 0.2em;padding-left: 0.2em;position: relative;}#sk-container-id-5 div.sk-item {position: relative;z-index: 1;}#sk-container-id-5 div.sk-parallel {display: flex;align-items: stretch;justify-content: center;background-color: white;position: relative;}#sk-container-id-5 div.sk-item::before, #sk-container-id-5 div.sk-parallel-item::before {content: \"\";position: absolute;border-left: 1px solid gray;box-sizing: border-box;top: 0;bottom: 0;left: 50%;z-index: -1;}#sk-container-id-5 div.sk-parallel-item {display: flex;flex-direction: column;z-index: 1;position: relative;background-color: white;}#sk-container-id-5 div.sk-parallel-item:first-child::after {align-self: flex-end;width: 50%;}#sk-container-id-5 div.sk-parallel-item:last-child::after {align-self: flex-start;width: 50%;}#sk-container-id-5 div.sk-parallel-item:only-child::after {width: 0;}#sk-container-id-5 div.sk-dashed-wrapped {border: 1px dashed gray;margin: 0 0.4em 0.5em 0.4em;box-sizing: border-box;padding-bottom: 0.4em;background-color: white;}#sk-container-id-5 div.sk-label label {font-family: monospace;font-weight: bold;display: inline-block;line-height: 1.2em;}#sk-container-id-5 div.sk-label-container {text-align: center;}#sk-container-id-5 div.sk-container {/* jupyter's `normalize.less` sets `[hidden] { display: none; }` but bootstrap.min.css set `[hidden] { display: none !important; }` so we also need the `!important` here to be able to override the default hidden behavior on the sphinx rendered scikit-learn.org. See: https://github.com/scikit-learn/scikit-learn/issues/21755 */display: inline-block !important;position: relative;}#sk-container-id-5 div.sk-text-repr-fallback {display: none;}</style><div id=\"sk-container-id-5\" class=\"sk-top-container\"><div class=\"sk-text-repr-fallback\"><pre>GradientBoostingClassifier(random_state=42)</pre><b>In a Jupyter environment, please rerun this cell to show the HTML representation or trust the notebook. <br />On GitHub, the HTML representation is unable to render, please try loading this page with nbviewer.org.</b></div><div class=\"sk-container\" hidden><div class=\"sk-item\"><div class=\"sk-estimator sk-toggleable\"><input class=\"sk-toggleable__control sk-hidden--visually\" id=\"sk-estimator-id-5\" type=\"checkbox\" checked><label for=\"sk-estimator-id-5\" class=\"sk-toggleable__label sk-toggleable__label-arrow\">GradientBoostingClassifier</label><div class=\"sk-toggleable__content\"><pre>GradientBoostingClassifier(random_state=42)</pre></div></div></div></div></div>"
      ],
      "text/plain": [
       "GradientBoostingClassifier(random_state=42)"
      ]
     },
     "execution_count": 96,
     "metadata": {},
     "output_type": "execute_result"
    }
   ],
   "source": [
    "#GradientBoostingClassifier\n",
    "\n",
    "from sklearn.ensemble import GradientBoostingClassifier\n",
    "\n",
    "# Initialize the Gradient Boosting Classifier\n",
    "gb_classifier = GradientBoostingClassifier(random_state=42)\n",
    "\n",
    "# Fit the model on training data\n",
    "gb_classifier.fit(X_train, y_train)\n"
   ]
  },
  {
   "cell_type": "code",
   "execution_count": 39,
   "metadata": {
    "colab": {
     "base_uri": "https://localhost:8080/"
    },
    "id": "QlQs2Kys0QRg",
    "outputId": "36300fb3-e98e-446b-84b2-4051079ed804",
    "scrolled": true
   },
   "outputs": [
    {
     "name": "stdout",
     "output_type": "stream",
     "text": [
      "Accuracy Score: 1.0\n"
     ]
    }
   ],
   "source": [
    "# Predict on test data\n",
    "y_pred = gb_classifier.predict(X_test)\n",
    "\n",
    "# Compute accuracy\n",
    "accuracy = accuracy_score(y_test, y_pred)\n",
    "\n",
    "# Print accuracy\n",
    "print(\"Accuracy Score:\", accuracy)"
   ]
  },
  {
   "cell_type": "code",
   "execution_count": 40,
   "metadata": {
    "colab": {
     "base_uri": "https://localhost:8080/",
     "height": 80
    },
    "id": "WpYMusHM0eq4",
    "outputId": "88fed6de-be37-4797-af28-63d08eb4f024"
   },
   "outputs": [
    {
     "data": {
      "text/html": [
       "<style>#sk-container-id-3 {color: black;}#sk-container-id-3 pre{padding: 0;}#sk-container-id-3 div.sk-toggleable {background-color: white;}#sk-container-id-3 label.sk-toggleable__label {cursor: pointer;display: block;width: 100%;margin-bottom: 0;padding: 0.3em;box-sizing: border-box;text-align: center;}#sk-container-id-3 label.sk-toggleable__label-arrow:before {content: \"▸\";float: left;margin-right: 0.25em;color: #696969;}#sk-container-id-3 label.sk-toggleable__label-arrow:hover:before {color: black;}#sk-container-id-3 div.sk-estimator:hover label.sk-toggleable__label-arrow:before {color: black;}#sk-container-id-3 div.sk-toggleable__content {max-height: 0;max-width: 0;overflow: hidden;text-align: left;background-color: #f0f8ff;}#sk-container-id-3 div.sk-toggleable__content pre {margin: 0.2em;color: black;border-radius: 0.25em;background-color: #f0f8ff;}#sk-container-id-3 input.sk-toggleable__control:checked~div.sk-toggleable__content {max-height: 200px;max-width: 100%;overflow: auto;}#sk-container-id-3 input.sk-toggleable__control:checked~label.sk-toggleable__label-arrow:before {content: \"▾\";}#sk-container-id-3 div.sk-estimator input.sk-toggleable__control:checked~label.sk-toggleable__label {background-color: #d4ebff;}#sk-container-id-3 div.sk-label input.sk-toggleable__control:checked~label.sk-toggleable__label {background-color: #d4ebff;}#sk-container-id-3 input.sk-hidden--visually {border: 0;clip: rect(1px 1px 1px 1px);clip: rect(1px, 1px, 1px, 1px);height: 1px;margin: -1px;overflow: hidden;padding: 0;position: absolute;width: 1px;}#sk-container-id-3 div.sk-estimator {font-family: monospace;background-color: #f0f8ff;border: 1px dotted black;border-radius: 0.25em;box-sizing: border-box;margin-bottom: 0.5em;}#sk-container-id-3 div.sk-estimator:hover {background-color: #d4ebff;}#sk-container-id-3 div.sk-parallel-item::after {content: \"\";width: 100%;border-bottom: 1px solid gray;flex-grow: 1;}#sk-container-id-3 div.sk-label:hover label.sk-toggleable__label {background-color: #d4ebff;}#sk-container-id-3 div.sk-serial::before {content: \"\";position: absolute;border-left: 1px solid gray;box-sizing: border-box;top: 0;bottom: 0;left: 50%;z-index: 0;}#sk-container-id-3 div.sk-serial {display: flex;flex-direction: column;align-items: center;background-color: white;padding-right: 0.2em;padding-left: 0.2em;position: relative;}#sk-container-id-3 div.sk-item {position: relative;z-index: 1;}#sk-container-id-3 div.sk-parallel {display: flex;align-items: stretch;justify-content: center;background-color: white;position: relative;}#sk-container-id-3 div.sk-item::before, #sk-container-id-3 div.sk-parallel-item::before {content: \"\";position: absolute;border-left: 1px solid gray;box-sizing: border-box;top: 0;bottom: 0;left: 50%;z-index: -1;}#sk-container-id-3 div.sk-parallel-item {display: flex;flex-direction: column;z-index: 1;position: relative;background-color: white;}#sk-container-id-3 div.sk-parallel-item:first-child::after {align-self: flex-end;width: 50%;}#sk-container-id-3 div.sk-parallel-item:last-child::after {align-self: flex-start;width: 50%;}#sk-container-id-3 div.sk-parallel-item:only-child::after {width: 0;}#sk-container-id-3 div.sk-dashed-wrapped {border: 1px dashed gray;margin: 0 0.4em 0.5em 0.4em;box-sizing: border-box;padding-bottom: 0.4em;background-color: white;}#sk-container-id-3 div.sk-label label {font-family: monospace;font-weight: bold;display: inline-block;line-height: 1.2em;}#sk-container-id-3 div.sk-label-container {text-align: center;}#sk-container-id-3 div.sk-container {/* jupyter's `normalize.less` sets `[hidden] { display: none; }` but bootstrap.min.css set `[hidden] { display: none !important; }` so we also need the `!important` here to be able to override the default hidden behavior on the sphinx rendered scikit-learn.org. See: https://github.com/scikit-learn/scikit-learn/issues/21755 */display: inline-block !important;position: relative;}#sk-container-id-3 div.sk-text-repr-fallback {display: none;}</style><div id=\"sk-container-id-3\" class=\"sk-top-container\"><div class=\"sk-text-repr-fallback\"><pre>DecisionTreeClassifier(random_state=42)</pre><b>In a Jupyter environment, please rerun this cell to show the HTML representation or trust the notebook. <br />On GitHub, the HTML representation is unable to render, please try loading this page with nbviewer.org.</b></div><div class=\"sk-container\" hidden><div class=\"sk-item\"><div class=\"sk-estimator sk-toggleable\"><input class=\"sk-toggleable__control sk-hidden--visually\" id=\"sk-estimator-id-3\" type=\"checkbox\" checked><label for=\"sk-estimator-id-3\" class=\"sk-toggleable__label sk-toggleable__label-arrow\">DecisionTreeClassifier</label><div class=\"sk-toggleable__content\"><pre>DecisionTreeClassifier(random_state=42)</pre></div></div></div></div></div>"
      ],
      "text/plain": [
       "DecisionTreeClassifier(random_state=42)"
      ]
     },
     "execution_count": 40,
     "metadata": {},
     "output_type": "execute_result"
    }
   ],
   "source": [
    "#Decision Tree Classifier\n",
    "\n",
    "from sklearn.tree import DecisionTreeClassifier\n",
    "\n",
    "# Initialize the Decision Tree Classifier\n",
    "dt_classifier = DecisionTreeClassifier(random_state=42)\n",
    "\n",
    "# Fit the model on training data\n",
    "dt_classifier.fit(X_train, y_train)\n"
   ]
  },
  {
   "cell_type": "code",
   "execution_count": 41,
   "metadata": {
    "colab": {
     "base_uri": "https://localhost:8080/"
    },
    "id": "6aYlI-XR0e9r",
    "outputId": "30ca45ee-5554-48bf-9073-f4f5496f5ae1"
   },
   "outputs": [
    {
     "name": "stdout",
     "output_type": "stream",
     "text": [
      "Accuracy Score: 1.0\n"
     ]
    }
   ],
   "source": [
    "# Predict on test data\n",
    "y_pred = dt_classifier.predict(X_test)\n",
    "\n",
    "# Compute accuracy\n",
    "accuracy = accuracy_score(y_test, y_pred)\n",
    "\n",
    "# Print accuracy\n",
    "print(\"Accuracy Score:\", accuracy)"
   ]
  },
  {
   "cell_type": "code",
   "execution_count": 42,
   "metadata": {},
   "outputs": [
    {
     "name": "stdout",
     "output_type": "stream",
     "text": [
      "Defaulting to user installation because normal site-packages is not writeable\n",
      "Requirement already satisfied: xgboost in c:\\users\\asus\\appdata\\roaming\\python\\python311\\site-packages (2.1.4)\n",
      "Requirement already satisfied: numpy in c:\\programdata\\anaconda3\\lib\\site-packages (from xgboost) (1.24.3)\n",
      "Requirement already satisfied: scipy in c:\\programdata\\anaconda3\\lib\\site-packages (from xgboost) (1.11.1)\n"
     ]
    }
   ],
   "source": [
    "!pip install xgboost\n"
   ]
  },
  {
   "cell_type": "code",
   "execution_count": 43,
   "metadata": {
    "id": "JBUBJLT40jdq"
   },
   "outputs": [],
   "source": [
    "#XGBoost Classifier\n",
    "\n",
    "from sklearn.preprocessing import LabelEncoder\n",
    "from xgboost import XGBClassifier\n",
    "from sklearn.metrics import accuracy_score\n",
    "\n",
    "# Apply Label Encoding on target variable\n",
    "le = LabelEncoder()\n",
    "y_train_encoded = le.fit_transform(y_train)\n",
    "y_test_encoded = le.transform(y_test)\n",
    "\n",
    "# Initialize XGBoost\n",
    "xgb_classifier = XGBClassifier(random_state=42, eval_metric='mlogloss')\n",
    "\n",
    "# Train the model\n",
    "xgb_classifier.fit(X_train, y_train_encoded)\n",
    "\n",
    "# Predict on test data\n",
    "y_pred = xgb_classifier.predict(X_test)\n",
    "\n",
    "# Decode labels for readable results (optional)\n",
    "y_pred_decoded = le.inverse_transform(y_pred)\n"
   ]
  },
  {
   "cell_type": "code",
   "execution_count": 44,
   "metadata": {
    "colab": {
     "base_uri": "https://localhost:8080/"
    },
    "id": "_qescZ1T13tm",
    "outputId": "6ccdb2f1-8409-486a-aa4e-69e72ce8b7e6"
   },
   "outputs": [
    {
     "name": "stdout",
     "output_type": "stream",
     "text": [
      "XGBoost Accuracy: 1.00\n"
     ]
    }
   ],
   "source": [
    "accuracy = accuracy_score(y_test_encoded, y_pred)\n",
    "print(f\"XGBoost Accuracy: {accuracy:.2f}\")"
   ]
  },
  {
   "cell_type": "code",
   "execution_count": 45,
   "metadata": {
    "colab": {
     "base_uri": "https://localhost:8080/"
    },
    "id": "k8_TnloO2HYe",
    "outputId": "a5280e12-22ad-4f35-9726-e4cc4e468d90"
   },
   "outputs": [
    {
     "name": "stdout",
     "output_type": "stream",
     "text": [
      "SVM Accuracy: 0.89\n"
     ]
    }
   ],
   "source": [
    "#SVM (Support Vector Machine)\n",
    "\n",
    "from sklearn.svm import SVC\n",
    "from sklearn.metrics import accuracy_score\n",
    "\n",
    "# Initialize SVM with RBF kernel\n",
    "svm_classifier = SVC(kernel='rbf', random_state=42)\n",
    "\n",
    "# Train the model\n",
    "svm_classifier.fit(X_train, y_train)\n",
    "\n",
    "# Predict on test data\n",
    "y_pred = svm_classifier.predict(X_test)\n",
    "\n",
    "# Evaluate accuracy\n",
    "accuracy = accuracy_score(y_test, y_pred)\n",
    "print(f\"SVM Accuracy: {accuracy:.2f}\")\n"
   ]
  },
  {
   "cell_type": "code",
   "execution_count": 46,
   "metadata": {
    "colab": {
     "base_uri": "https://localhost:8080/"
    },
    "id": "7c0ZmkFV2Lfw",
    "outputId": "b1e018e0-0a35-4aca-aace-19a05bdd15ff"
   },
   "outputs": [
    {
     "name": "stdout",
     "output_type": "stream",
     "text": [
      "KNN Accuracy: 0.99\n"
     ]
    }
   ],
   "source": [
    "#KNN (K-Nearest Neighbor)\n",
    "\n",
    "from sklearn.neighbors import KNeighborsClassifier\n",
    "\n",
    "# Initialize KNN\n",
    "knn_classifier = KNeighborsClassifier(n_neighbors=5)\n",
    "\n",
    "# Train the model\n",
    "knn_classifier.fit(X_train, y_train)\n",
    "\n",
    "# Predict on test data\n",
    "y_pred = knn_classifier.predict(X_test)\n",
    "\n",
    "# Evaluate accuracy\n",
    "accuracy = accuracy_score(y_test, y_pred)\n",
    "print(f\"KNN Accuracy: {accuracy:.2f}\")\n"
   ]
  },
  {
   "cell_type": "code",
   "execution_count": 47,
   "metadata": {},
   "outputs": [
    {
     "name": "stdout",
     "output_type": "stream",
     "text": [
      "Defaulting to user installation because normal site-packages is not writeable\n",
      "Requirement already satisfied: lightgbm in c:\\users\\asus\\appdata\\roaming\\python\\python311\\site-packages (4.6.0)\n",
      "Requirement already satisfied: numpy>=1.17.0 in c:\\programdata\\anaconda3\\lib\\site-packages (from lightgbm) (1.24.3)\n",
      "Requirement already satisfied: scipy in c:\\programdata\\anaconda3\\lib\\site-packages (from lightgbm) (1.11.1)\n"
     ]
    }
   ],
   "source": [
    "!pip install lightgbm\n"
   ]
  },
  {
   "cell_type": "code",
   "execution_count": 48,
   "metadata": {
    "colab": {
     "base_uri": "https://localhost:8080/"
    },
    "id": "rVf9TZg_2PJI",
    "outputId": "0a774923-5350-4cbe-8b1a-d565cdf1675d"
   },
   "outputs": [
    {
     "name": "stdout",
     "output_type": "stream",
     "text": [
      "[LightGBM] [Warning] Found whitespace in feature_names, replace with underlines\n",
      "[LightGBM] [Info] Auto-choosing col-wise multi-threading, the overhead of testing was 0.000378 seconds.\n",
      "You can set `force_col_wise=true` to remove the overhead.\n",
      "[LightGBM] [Info] Total Bins 1304\n",
      "[LightGBM] [Info] Number of data points in the train set: 2232, number of used features: 7\n",
      "[LightGBM] [Info] Start training from score -0.901614\n",
      "[LightGBM] [Info] Start training from score -1.704300\n",
      "[LightGBM] [Info] Start training from score -0.938718\n",
      "[LightGBM] [Info] Start training from score -3.860506\n",
      "[LightGBM] [Warning] No further splits with positive gain, best gain: -inf\n",
      "[LightGBM] [Warning] No further splits with positive gain, best gain: -inf\n",
      "[LightGBM] [Warning] No further splits with positive gain, best gain: -inf\n",
      "[LightGBM] [Warning] No further splits with positive gain, best gain: -inf\n",
      "[LightGBM] [Warning] No further splits with positive gain, best gain: -inf\n",
      "[LightGBM] [Warning] No further splits with positive gain, best gain: -inf\n",
      "[LightGBM] [Warning] No further splits with positive gain, best gain: -inf\n",
      "[LightGBM] [Warning] No further splits with positive gain, best gain: -inf\n",
      "[LightGBM] [Warning] No further splits with positive gain, best gain: -inf\n",
      "[LightGBM] [Warning] No further splits with positive gain, best gain: -inf\n",
      "[LightGBM] [Warning] No further splits with positive gain, best gain: -inf\n",
      "[LightGBM] [Warning] No further splits with positive gain, best gain: -inf\n",
      "[LightGBM] [Warning] No further splits with positive gain, best gain: -inf\n",
      "[LightGBM] [Warning] No further splits with positive gain, best gain: -inf\n",
      "[LightGBM] [Warning] No further splits with positive gain, best gain: -inf\n",
      "[LightGBM] [Warning] No further splits with positive gain, best gain: -inf\n",
      "[LightGBM] [Warning] No further splits with positive gain, best gain: -inf\n",
      "[LightGBM] [Warning] No further splits with positive gain, best gain: -inf\n",
      "[LightGBM] [Warning] No further splits with positive gain, best gain: -inf\n",
      "[LightGBM] [Warning] No further splits with positive gain, best gain: -inf\n",
      "[LightGBM] [Warning] No further splits with positive gain, best gain: -inf\n",
      "[LightGBM] [Warning] No further splits with positive gain, best gain: -inf\n",
      "[LightGBM] [Warning] No further splits with positive gain, best gain: -inf\n",
      "[LightGBM] [Warning] No further splits with positive gain, best gain: -inf\n",
      "[LightGBM] [Warning] No further splits with positive gain, best gain: -inf\n",
      "[LightGBM] [Warning] No further splits with positive gain, best gain: -inf\n",
      "[LightGBM] [Warning] No further splits with positive gain, best gain: -inf\n",
      "[LightGBM] [Warning] No further splits with positive gain, best gain: -inf\n",
      "[LightGBM] [Warning] No further splits with positive gain, best gain: -inf\n",
      "[LightGBM] [Warning] No further splits with positive gain, best gain: -inf\n",
      "[LightGBM] [Warning] No further splits with positive gain, best gain: -inf\n",
      "[LightGBM] [Warning] No further splits with positive gain, best gain: -inf\n",
      "[LightGBM] [Warning] No further splits with positive gain, best gain: -inf\n",
      "[LightGBM] [Warning] No further splits with positive gain, best gain: -inf\n",
      "[LightGBM] [Warning] No further splits with positive gain, best gain: -inf\n",
      "[LightGBM] [Warning] No further splits with positive gain, best gain: -inf\n",
      "[LightGBM] [Warning] No further splits with positive gain, best gain: -inf\n",
      "[LightGBM] [Warning] No further splits with positive gain, best gain: -inf\n",
      "[LightGBM] [Warning] No further splits with positive gain, best gain: -inf\n",
      "[LightGBM] [Warning] No further splits with positive gain, best gain: -inf\n",
      "[LightGBM] [Warning] No further splits with positive gain, best gain: -inf\n",
      "[LightGBM] [Warning] No further splits with positive gain, best gain: -inf\n",
      "[LightGBM] [Warning] No further splits with positive gain, best gain: -inf\n",
      "[LightGBM] [Warning] No further splits with positive gain, best gain: -inf\n",
      "[LightGBM] [Warning] No further splits with positive gain, best gain: -inf\n",
      "[LightGBM] [Warning] No further splits with positive gain, best gain: -inf\n",
      "[LightGBM] [Warning] No further splits with positive gain, best gain: -inf\n",
      "[LightGBM] [Warning] No further splits with positive gain, best gain: -inf\n",
      "[LightGBM] [Warning] No further splits with positive gain, best gain: -inf\n",
      "[LightGBM] [Warning] No further splits with positive gain, best gain: -inf\n",
      "[LightGBM] [Warning] No further splits with positive gain, best gain: -inf\n",
      "[LightGBM] [Warning] No further splits with positive gain, best gain: -inf\n",
      "[LightGBM] [Warning] No further splits with positive gain, best gain: -inf\n",
      "[LightGBM] [Warning] No further splits with positive gain, best gain: -inf\n",
      "[LightGBM] [Warning] No further splits with positive gain, best gain: -inf\n",
      "[LightGBM] [Warning] No further splits with positive gain, best gain: -inf\n",
      "[LightGBM] [Warning] No further splits with positive gain, best gain: -inf\n",
      "[LightGBM] [Warning] No further splits with positive gain, best gain: -inf\n",
      "[LightGBM] [Warning] No further splits with positive gain, best gain: -inf\n",
      "[LightGBM] [Warning] No further splits with positive gain, best gain: -inf\n",
      "[LightGBM] [Warning] No further splits with positive gain, best gain: -inf\n",
      "[LightGBM] [Warning] No further splits with positive gain, best gain: -inf\n",
      "[LightGBM] [Warning] No further splits with positive gain, best gain: -inf\n",
      "[LightGBM] [Warning] No further splits with positive gain, best gain: -inf\n",
      "[LightGBM] [Warning] No further splits with positive gain, best gain: -inf\n",
      "[LightGBM] [Warning] No further splits with positive gain, best gain: -inf\n",
      "[LightGBM] [Warning] No further splits with positive gain, best gain: -inf\n",
      "[LightGBM] [Warning] No further splits with positive gain, best gain: -inf\n",
      "[LightGBM] [Warning] No further splits with positive gain, best gain: -inf\n",
      "[LightGBM] [Warning] No further splits with positive gain, best gain: -inf\n",
      "[LightGBM] [Warning] No further splits with positive gain, best gain: -inf\n",
      "[LightGBM] [Warning] No further splits with positive gain, best gain: -inf\n",
      "[LightGBM] [Warning] No further splits with positive gain, best gain: -inf\n",
      "[LightGBM] [Warning] No further splits with positive gain, best gain: -inf\n",
      "[LightGBM] [Warning] No further splits with positive gain, best gain: -inf\n",
      "[LightGBM] [Warning] No further splits with positive gain, best gain: -inf\n",
      "[LightGBM] [Warning] No further splits with positive gain, best gain: -inf\n",
      "[LightGBM] [Warning] No further splits with positive gain, best gain: -inf\n",
      "[LightGBM] [Warning] No further splits with positive gain, best gain: -inf\n",
      "[LightGBM] [Warning] No further splits with positive gain, best gain: -inf\n",
      "[LightGBM] [Warning] No further splits with positive gain, best gain: -inf\n",
      "[LightGBM] [Warning] No further splits with positive gain, best gain: -inf\n",
      "[LightGBM] [Warning] No further splits with positive gain, best gain: -inf\n",
      "[LightGBM] [Warning] No further splits with positive gain, best gain: -inf\n",
      "[LightGBM] [Warning] No further splits with positive gain, best gain: -inf\n",
      "[LightGBM] [Warning] No further splits with positive gain, best gain: -inf\n",
      "[LightGBM] [Warning] No further splits with positive gain, best gain: -inf\n",
      "[LightGBM] [Warning] No further splits with positive gain, best gain: -inf\n",
      "[LightGBM] [Warning] No further splits with positive gain, best gain: -inf\n",
      "[LightGBM] [Warning] No further splits with positive gain, best gain: -inf\n",
      "[LightGBM] [Warning] No further splits with positive gain, best gain: -inf\n",
      "[LightGBM] [Warning] No further splits with positive gain, best gain: -inf\n",
      "[LightGBM] [Warning] No further splits with positive gain, best gain: -inf\n",
      "[LightGBM] [Warning] No further splits with positive gain, best gain: -inf\n",
      "[LightGBM] [Warning] No further splits with positive gain, best gain: -inf\n",
      "[LightGBM] [Warning] No further splits with positive gain, best gain: -inf\n",
      "[LightGBM] [Warning] No further splits with positive gain, best gain: -inf\n",
      "[LightGBM] [Warning] No further splits with positive gain, best gain: -inf\n",
      "[LightGBM] [Warning] No further splits with positive gain, best gain: -inf\n",
      "[LightGBM] [Warning] No further splits with positive gain, best gain: -inf\n",
      "[LightGBM] [Warning] No further splits with positive gain, best gain: -inf\n",
      "[LightGBM] [Warning] No further splits with positive gain, best gain: -inf\n",
      "[LightGBM] [Warning] No further splits with positive gain, best gain: -inf\n",
      "[LightGBM] [Warning] No further splits with positive gain, best gain: -inf\n",
      "[LightGBM] [Warning] No further splits with positive gain, best gain: -inf\n",
      "[LightGBM] [Warning] No further splits with positive gain, best gain: -inf\n",
      "[LightGBM] [Warning] No further splits with positive gain, best gain: -inf\n",
      "[LightGBM] [Warning] No further splits with positive gain, best gain: -inf\n",
      "[LightGBM] [Warning] No further splits with positive gain, best gain: -inf\n"
     ]
    },
    {
     "name": "stdout",
     "output_type": "stream",
     "text": [
      "[LightGBM] [Warning] No further splits with positive gain, best gain: -inf\n",
      "[LightGBM] [Warning] No further splits with positive gain, best gain: -inf\n",
      "[LightGBM] [Warning] No further splits with positive gain, best gain: -inf\n",
      "[LightGBM] [Warning] No further splits with positive gain, best gain: -inf\n",
      "[LightGBM] [Warning] No further splits with positive gain, best gain: -inf\n",
      "[LightGBM] [Warning] No further splits with positive gain, best gain: -inf\n",
      "[LightGBM] [Warning] No further splits with positive gain, best gain: -inf\n",
      "[LightGBM] [Warning] No further splits with positive gain, best gain: -inf\n",
      "[LightGBM] [Warning] No further splits with positive gain, best gain: -inf\n",
      "[LightGBM] [Warning] No further splits with positive gain, best gain: -inf\n",
      "[LightGBM] [Warning] No further splits with positive gain, best gain: -inf\n",
      "[LightGBM] [Warning] No further splits with positive gain, best gain: -inf\n",
      "[LightGBM] [Warning] No further splits with positive gain, best gain: -inf\n",
      "[LightGBM] [Warning] No further splits with positive gain, best gain: -inf\n",
      "[LightGBM] [Warning] No further splits with positive gain, best gain: -inf\n",
      "[LightGBM] [Warning] No further splits with positive gain, best gain: -inf\n",
      "[LightGBM] [Warning] No further splits with positive gain, best gain: -inf\n",
      "[LightGBM] [Warning] No further splits with positive gain, best gain: -inf\n",
      "[LightGBM] [Warning] No further splits with positive gain, best gain: -inf\n",
      "[LightGBM] [Warning] No further splits with positive gain, best gain: -inf\n",
      "[LightGBM] [Warning] No further splits with positive gain, best gain: -inf\n",
      "[LightGBM] [Warning] No further splits with positive gain, best gain: -inf\n",
      "[LightGBM] [Warning] No further splits with positive gain, best gain: -inf\n",
      "[LightGBM] [Warning] No further splits with positive gain, best gain: -inf\n",
      "[LightGBM] [Warning] No further splits with positive gain, best gain: -inf\n",
      "[LightGBM] [Warning] No further splits with positive gain, best gain: -inf\n",
      "[LightGBM] [Warning] No further splits with positive gain, best gain: -inf\n",
      "[LightGBM] [Warning] No further splits with positive gain, best gain: -inf\n",
      "[LightGBM] [Warning] No further splits with positive gain, best gain: -inf\n",
      "[LightGBM] [Warning] No further splits with positive gain, best gain: -inf\n",
      "[LightGBM] [Warning] No further splits with positive gain, best gain: -inf\n",
      "[LightGBM] [Warning] No further splits with positive gain, best gain: -inf\n",
      "[LightGBM] [Warning] No further splits with positive gain, best gain: -inf\n",
      "[LightGBM] [Warning] No further splits with positive gain, best gain: -inf\n",
      "[LightGBM] [Warning] No further splits with positive gain, best gain: -inf\n",
      "[LightGBM] [Warning] No further splits with positive gain, best gain: -inf\n",
      "[LightGBM] [Warning] No further splits with positive gain, best gain: -inf\n",
      "[LightGBM] [Warning] No further splits with positive gain, best gain: -inf\n",
      "[LightGBM] [Warning] No further splits with positive gain, best gain: -inf\n",
      "[LightGBM] [Warning] No further splits with positive gain, best gain: -inf\n",
      "[LightGBM] [Warning] No further splits with positive gain, best gain: -inf\n",
      "[LightGBM] [Warning] No further splits with positive gain, best gain: -inf\n",
      "[LightGBM] [Warning] No further splits with positive gain, best gain: -inf\n",
      "[LightGBM] [Warning] No further splits with positive gain, best gain: -inf\n",
      "[LightGBM] [Warning] No further splits with positive gain, best gain: -inf\n",
      "[LightGBM] [Warning] No further splits with positive gain, best gain: -inf\n",
      "[LightGBM] [Warning] No further splits with positive gain, best gain: -inf\n",
      "[LightGBM] [Warning] No further splits with positive gain, best gain: -inf\n",
      "[LightGBM] [Warning] No further splits with positive gain, best gain: -inf\n",
      "[LightGBM] [Warning] No further splits with positive gain, best gain: -inf\n",
      "[LightGBM] [Warning] No further splits with positive gain, best gain: -inf\n",
      "[LightGBM] [Warning] No further splits with positive gain, best gain: -inf\n",
      "[LightGBM] [Warning] No further splits with positive gain, best gain: -inf\n",
      "[LightGBM] [Warning] No further splits with positive gain, best gain: -inf\n",
      "[LightGBM] [Warning] No further splits with positive gain, best gain: -inf\n",
      "[LightGBM] [Warning] No further splits with positive gain, best gain: -inf\n",
      "[LightGBM] [Warning] No further splits with positive gain, best gain: -inf\n",
      "[LightGBM] [Warning] No further splits with positive gain, best gain: -inf\n",
      "[LightGBM] [Warning] No further splits with positive gain, best gain: -inf\n",
      "[LightGBM] [Warning] No further splits with positive gain, best gain: -inf\n",
      "[LightGBM] [Warning] No further splits with positive gain, best gain: -inf\n",
      "[LightGBM] [Warning] No further splits with positive gain, best gain: -inf\n",
      "[LightGBM] [Warning] No further splits with positive gain, best gain: -inf\n",
      "[LightGBM] [Warning] No further splits with positive gain, best gain: -inf\n",
      "[LightGBM] [Warning] No further splits with positive gain, best gain: -inf\n",
      "[LightGBM] [Warning] No further splits with positive gain, best gain: -inf\n",
      "[LightGBM] [Warning] No further splits with positive gain, best gain: -inf\n",
      "[LightGBM] [Warning] No further splits with positive gain, best gain: -inf\n",
      "[LightGBM] [Warning] No further splits with positive gain, best gain: -inf\n",
      "[LightGBM] [Warning] No further splits with positive gain, best gain: -inf\n",
      "[LightGBM] [Warning] No further splits with positive gain, best gain: -inf\n",
      "[LightGBM] [Warning] No further splits with positive gain, best gain: -inf\n",
      "[LightGBM] [Warning] No further splits with positive gain, best gain: -inf\n",
      "[LightGBM] [Warning] No further splits with positive gain, best gain: -inf\n",
      "[LightGBM] [Warning] No further splits with positive gain, best gain: -inf\n",
      "[LightGBM] [Warning] No further splits with positive gain, best gain: -inf\n",
      "[LightGBM] [Warning] No further splits with positive gain, best gain: -inf\n",
      "[LightGBM] [Warning] No further splits with positive gain, best gain: -inf\n",
      "[LightGBM] [Warning] No further splits with positive gain, best gain: -inf\n",
      "[LightGBM] [Warning] No further splits with positive gain, best gain: -inf\n",
      "[LightGBM] [Warning] No further splits with positive gain, best gain: -inf\n",
      "[LightGBM] [Warning] No further splits with positive gain, best gain: -inf\n",
      "[LightGBM] [Warning] No further splits with positive gain, best gain: -inf\n",
      "[LightGBM] [Warning] No further splits with positive gain, best gain: -inf\n",
      "[LightGBM] [Warning] No further splits with positive gain, best gain: -inf\n",
      "[LightGBM] [Warning] No further splits with positive gain, best gain: -inf\n",
      "[LightGBM] [Warning] No further splits with positive gain, best gain: -inf\n",
      "[LightGBM] [Warning] No further splits with positive gain, best gain: -inf\n",
      "[LightGBM] [Warning] No further splits with positive gain, best gain: -inf\n",
      "[LightGBM] [Warning] No further splits with positive gain, best gain: -inf\n",
      "[LightGBM] [Warning] No further splits with positive gain, best gain: -inf\n",
      "[LightGBM] [Warning] No further splits with positive gain, best gain: -inf\n",
      "[LightGBM] [Warning] No further splits with positive gain, best gain: -inf\n",
      "[LightGBM] [Warning] No further splits with positive gain, best gain: -inf\n",
      "[LightGBM] [Warning] No further splits with positive gain, best gain: -inf\n",
      "[LightGBM] [Warning] No further splits with positive gain, best gain: -inf\n",
      "[LightGBM] [Warning] No further splits with positive gain, best gain: -inf\n",
      "[LightGBM] [Warning] No further splits with positive gain, best gain: -inf\n",
      "[LightGBM] [Warning] No further splits with positive gain, best gain: -inf\n",
      "[LightGBM] [Warning] No further splits with positive gain, best gain: -inf\n",
      "[LightGBM] [Warning] No further splits with positive gain, best gain: -inf\n",
      "[LightGBM] [Warning] No further splits with positive gain, best gain: -inf\n",
      "[LightGBM] [Warning] No further splits with positive gain, best gain: -inf\n",
      "[LightGBM] [Warning] No further splits with positive gain, best gain: -inf\n",
      "[LightGBM] [Warning] No further splits with positive gain, best gain: -inf\n",
      "[LightGBM] [Warning] No further splits with positive gain, best gain: -inf\n",
      "[LightGBM] [Warning] No further splits with positive gain, best gain: -inf\n",
      "[LightGBM] [Warning] No further splits with positive gain, best gain: -inf\n",
      "[LightGBM] [Warning] No further splits with positive gain, best gain: -inf\n",
      "[LightGBM] [Warning] No further splits with positive gain, best gain: -inf\n",
      "[LightGBM] [Warning] No further splits with positive gain, best gain: -inf\n",
      "[LightGBM] [Warning] No further splits with positive gain, best gain: -inf\n",
      "[LightGBM] [Warning] No further splits with positive gain, best gain: -inf\n",
      "[LightGBM] [Warning] No further splits with positive gain, best gain: -inf\n",
      "[LightGBM] [Warning] No further splits with positive gain, best gain: -inf\n",
      "[LightGBM] [Warning] No further splits with positive gain, best gain: -inf\n",
      "[LightGBM] [Warning] No further splits with positive gain, best gain: -inf\n",
      "[LightGBM] [Warning] No further splits with positive gain, best gain: -inf\n",
      "[LightGBM] [Warning] No further splits with positive gain, best gain: -inf\n",
      "[LightGBM] [Warning] No further splits with positive gain, best gain: -inf\n",
      "[LightGBM] [Warning] No further splits with positive gain, best gain: -inf\n",
      "[LightGBM] [Warning] No further splits with positive gain, best gain: -inf\n",
      "[LightGBM] [Warning] No further splits with positive gain, best gain: -inf\n",
      "[LightGBM] [Warning] No further splits with positive gain, best gain: -inf\n",
      "[LightGBM] [Warning] No further splits with positive gain, best gain: -inf\n",
      "[LightGBM] [Warning] No further splits with positive gain, best gain: -inf\n",
      "[LightGBM] [Warning] No further splits with positive gain, best gain: -inf\n",
      "[LightGBM] [Warning] No further splits with positive gain, best gain: -inf\n",
      "[LightGBM] [Warning] No further splits with positive gain, best gain: -inf\n",
      "[LightGBM] [Warning] No further splits with positive gain, best gain: -inf\n",
      "[LightGBM] [Warning] No further splits with positive gain, best gain: -inf\n",
      "[LightGBM] [Warning] No further splits with positive gain, best gain: -inf\n",
      "[LightGBM] [Warning] No further splits with positive gain, best gain: -inf\n",
      "[LightGBM] [Warning] No further splits with positive gain, best gain: -inf\n",
      "[LightGBM] [Warning] No further splits with positive gain, best gain: -inf\n",
      "[LightGBM] [Warning] No further splits with positive gain, best gain: -inf\n",
      "[LightGBM] [Warning] No further splits with positive gain, best gain: -inf\n",
      "[LightGBM] [Warning] No further splits with positive gain, best gain: -inf\n",
      "[LightGBM] [Warning] No further splits with positive gain, best gain: -inf\n",
      "[LightGBM] [Warning] No further splits with positive gain, best gain: -inf\n",
      "[LightGBM] [Warning] No further splits with positive gain, best gain: -inf\n",
      "[LightGBM] [Warning] No further splits with positive gain, best gain: -inf\n",
      "[LightGBM] [Warning] No further splits with positive gain, best gain: -inf\n",
      "[LightGBM] [Warning] No further splits with positive gain, best gain: -inf\n"
     ]
    }
   ],
   "source": [
    "#LightGBM\n",
    "\n",
    "from lightgbm import LGBMClassifier\n",
    "\n",
    "# Initialize LightGBM\n",
    "lgbm_classifier = LGBMClassifier(random_state=42)\n",
    "\n",
    "# Train the model\n",
    "lgbm_classifier.fit(X_train, y_train)\n",
    "\n",
    "# Predict on test data\n",
    "y_pred = lgbm_classifier.predict(X_test)\n",
    "\n",
    "\n"
   ]
  },
  {
   "cell_type": "code",
   "execution_count": 49,
   "metadata": {
    "colab": {
     "base_uri": "https://localhost:8080/"
    },
    "id": "HiA6DYh-3_kp",
    "outputId": "9d07a62f-f413-4f71-c0fc-61a1e3e271ef"
   },
   "outputs": [
    {
     "name": "stdout",
     "output_type": "stream",
     "text": [
      "LightGBM Accuracy: 1.00\n"
     ]
    }
   ],
   "source": [
    "# Evaluate accuracy\n",
    "accuracy = accuracy_score(y_test, y_pred)\n",
    "print(f\"LightGBM Accuracy: {accuracy:.2f}\")"
   ]
  },
  {
   "cell_type": "code",
   "execution_count": 50,
   "metadata": {
    "id": "Dx39DovLy1H-"
   },
   "outputs": [],
   "source": [
    "#Accuracy Score\n",
    "\n",
    "y_pred = rf_classifier.predict(X_test)    # Predict the labels for the test set\n",
    "accuracy = accuracy_score(y_test, y_pred)   # Calculate the accuracy score\n"
   ]
  },
  {
   "cell_type": "code",
   "execution_count": 51,
   "metadata": {
    "colab": {
     "base_uri": "https://localhost:8080/"
    },
    "id": "alRmcl5xy3Yb",
    "outputId": "b481bad9-0a20-44c1-a6b2-d2b95c8ad355"
   },
   "outputs": [
    {
     "name": "stdout",
     "output_type": "stream",
     "text": [
      "['Overheating and Overvoltage' 'Overheating and Overvoltage' 'Overvoltage'\n",
      " 'Overheating and Overvoltage' 'Overvoltage' 'Normal Condition'\n",
      " 'Normal Condition' 'Overheating and Overvoltage' 'Overvoltage'\n",
      " 'Normal Condition' 'Overheating and Overvoltage' 'Overvoltage'\n",
      " 'Normal Condition' 'Overheating and Overvoltage' 'Overvoltage'\n",
      " 'Normal Condition' 'Normal Condition' 'Normal Condition' 'Overvoltage'\n",
      " 'Normal Condition' 'Overvoltage' 'Overvoltage'\n",
      " 'Overheating and Overvoltage' 'Normal Condition' 'Normal Condition'\n",
      " 'Overvoltage' 'Overheating and Overvoltage' 'Normal Condition'\n",
      " 'Overvoltage' 'Overvoltage' 'Overvoltage' 'Overvoltage'\n",
      " 'Normal Condition' 'Overvoltage' 'Overheating and Overvoltage'\n",
      " 'Overvoltage' 'Normal Condition' 'Normal Condition' 'Overvoltage'\n",
      " 'Overvoltage' 'Overheating and Overvoltage' 'Overvoltage'\n",
      " 'Normal Condition' 'Normal Condition' 'Overvoltage' 'Overvoltage'\n",
      " 'Overheating and Overvoltage' 'Normal Condition' 'Overvoltage'\n",
      " 'Normal Condition' 'Overvoltage' 'Overvoltage' 'Normal Condition'\n",
      " 'Normal Condition' 'Overvoltage' 'Normal Condition' 'Overvoltage'\n",
      " 'Overheating and Overvoltage' 'Overvoltage' 'Overheating and Overvoltage'\n",
      " 'Normal Condition' 'Overvoltage' 'Overvoltage' 'Undervoltage'\n",
      " 'Undervoltage' 'Overvoltage' 'Normal Condition' 'Overvoltage'\n",
      " 'Overvoltage' 'Overheating and Overvoltage' 'Normal Condition'\n",
      " 'Overvoltage' 'Normal Condition' 'Overheating and Overvoltage'\n",
      " 'Normal Condition' 'Overheating and Overvoltage' 'Normal Condition'\n",
      " 'Normal Condition' 'Normal Condition' 'Normal Condition' 'Overvoltage'\n",
      " 'Normal Condition' 'Normal Condition' 'Overheating and Overvoltage'\n",
      " 'Overvoltage' 'Normal Condition' 'Normal Condition' 'Overvoltage'\n",
      " 'Overheating and Overvoltage' 'Overvoltage' 'Overvoltage'\n",
      " 'Normal Condition' 'Overheating and Overvoltage' 'Normal Condition'\n",
      " 'Overheating and Overvoltage' 'Overvoltage' 'Overvoltage' 'Overvoltage'\n",
      " 'Normal Condition' 'Overvoltage' 'Normal Condition' 'Undervoltage'\n",
      " 'Overvoltage' 'Overheating and Overvoltage' 'Normal Condition'\n",
      " 'Normal Condition' 'Overheating and Overvoltage' 'Normal Condition'\n",
      " 'Overvoltage' 'Overvoltage' 'Normal Condition' 'Normal Condition'\n",
      " 'Overvoltage' 'Overheating and Overvoltage' 'Overvoltage'\n",
      " 'Overheating and Overvoltage' 'Normal Condition' 'Normal Condition'\n",
      " 'Overvoltage' 'Overvoltage' 'Overvoltage' 'Normal Condition'\n",
      " 'Overvoltage' 'Normal Condition' 'Normal Condition' 'Normal Condition'\n",
      " 'Normal Condition' 'Normal Condition' 'Normal Condition' 'Overvoltage'\n",
      " 'Normal Condition' 'Normal Condition' 'Overvoltage' 'Normal Condition'\n",
      " 'Overvoltage' 'Normal Condition' 'Overvoltage' 'Normal Condition'\n",
      " 'Normal Condition' 'Normal Condition' 'Undervoltage' 'Overvoltage'\n",
      " 'Normal Condition' 'Overvoltage' 'Normal Condition'\n",
      " 'Overheating and Overvoltage' 'Normal Condition'\n",
      " 'Overheating and Overvoltage' 'Normal Condition' 'Overvoltage'\n",
      " 'Normal Condition' 'Overheating and Overvoltage' 'Normal Condition'\n",
      " 'Normal Condition' 'Overheating and Overvoltage'\n",
      " 'Overheating and Overvoltage' 'Overvoltage' 'Overvoltage' 'Overvoltage'\n",
      " 'Overheating and Overvoltage' 'Overvoltage' 'Overheating and Overvoltage'\n",
      " 'Normal Condition' 'Overvoltage' 'Normal Condition' 'Normal Condition'\n",
      " 'Normal Condition' 'Normal Condition' 'Overvoltage' 'Normal Condition'\n",
      " 'Normal Condition' 'Normal Condition' 'Normal Condition' 'Overvoltage'\n",
      " 'Normal Condition' 'Overheating and Overvoltage' 'Undervoltage'\n",
      " 'Overvoltage' 'Overvoltage' 'Normal Condition' 'Overvoltage'\n",
      " 'Overvoltage' 'Normal Condition' 'Overvoltage' 'Overvoltage'\n",
      " 'Normal Condition' 'Normal Condition' 'Overvoltage' 'Normal Condition'\n",
      " 'Normal Condition' 'Overheating and Overvoltage' 'Normal Condition'\n",
      " 'Overheating and Overvoltage' 'Overvoltage' 'Normal Condition'\n",
      " 'Overheating and Overvoltage' 'Normal Condition' 'Normal Condition'\n",
      " 'Normal Condition' 'Normal Condition' 'Overvoltage' 'Overvoltage'\n",
      " 'Overvoltage' 'Overvoltage' 'Normal Condition' 'Overvoltage'\n",
      " 'Undervoltage' 'Overvoltage' 'Normal Condition' 'Overvoltage'\n",
      " 'Overheating and Overvoltage' 'Normal Condition' 'Overvoltage'\n",
      " 'Overvoltage' 'Normal Condition' 'Overvoltage' 'Overvoltage'\n",
      " 'Overvoltage' 'Normal Condition' 'Overvoltage' 'Overvoltage'\n",
      " 'Overheating and Overvoltage' 'Normal Condition' 'Overvoltage'\n",
      " 'Normal Condition' 'Normal Condition' 'Overheating and Overvoltage'\n",
      " 'Overvoltage' 'Overvoltage' 'Normal Condition' 'Normal Condition'\n",
      " 'Overvoltage' 'Overvoltage' 'Overvoltage' 'Overvoltage'\n",
      " 'Normal Condition' 'Normal Condition' 'Normal Condition'\n",
      " 'Normal Condition' 'Overvoltage' 'Normal Condition' 'Normal Condition'\n",
      " 'Overheating and Overvoltage' 'Overvoltage' 'Normal Condition'\n",
      " 'Overvoltage' 'Overvoltage' 'Normal Condition' 'Normal Condition'\n",
      " 'Overvoltage' 'Overvoltage' 'Overvoltage' 'Overvoltage'\n",
      " 'Overheating and Overvoltage' 'Overheating and Overvoltage'\n",
      " 'Normal Condition' 'Overvoltage' 'Overvoltage' 'Overvoltage'\n",
      " 'Normal Condition' 'Overvoltage' 'Normal Condition'\n",
      " 'Overheating and Overvoltage' 'Overvoltage' 'Overheating and Overvoltage'\n",
      " 'Overheating and Overvoltage' 'Overvoltage' 'Overvoltage'\n",
      " 'Overheating and Overvoltage' 'Overvoltage' 'Overvoltage' 'Overvoltage'\n",
      " 'Normal Condition' 'Overheating and Overvoltage' 'Overvoltage'\n",
      " 'Normal Condition' 'Normal Condition' 'Normal Condition'\n",
      " 'Normal Condition' 'Normal Condition' 'Normal Condition' 'Overvoltage'\n",
      " 'Normal Condition' 'Normal Condition' 'Overvoltage' 'Normal Condition'\n",
      " 'Overvoltage' 'Overvoltage' 'Overvoltage' 'Overvoltage'\n",
      " 'Normal Condition' 'Undervoltage' 'Overheating and Overvoltage'\n",
      " 'Overheating and Overvoltage' 'Overvoltage' 'Overvoltage' 'Overvoltage'\n",
      " 'Overheating and Overvoltage' 'Overvoltage' 'Normal Condition'\n",
      " 'Overvoltage' 'Overvoltage' 'Overvoltage' 'Overvoltage' 'Overvoltage'\n",
      " 'Overvoltage' 'Overvoltage' 'Normal Condition' 'Overvoltage'\n",
      " 'Normal Condition' 'Normal Condition' 'Normal Condition' 'Overvoltage'\n",
      " 'Normal Condition' 'Overvoltage' 'Normal Condition' 'Overvoltage'\n",
      " 'Overheating and Overvoltage' 'Overvoltage' 'Normal Condition'\n",
      " 'Overvoltage' 'Overheating and Overvoltage' 'Undervoltage'\n",
      " 'Normal Condition' 'Overheating and Overvoltage' 'Overvoltage'\n",
      " 'Overvoltage' 'Overvoltage' 'Undervoltage' 'Normal Condition'\n",
      " 'Overheating and Overvoltage' 'Normal Condition' 'Overvoltage'\n",
      " 'Normal Condition' 'Normal Condition' 'Overvoltage' 'Normal Condition'\n",
      " 'Normal Condition' 'Overvoltage' 'Overvoltage' 'Normal Condition'\n",
      " 'Normal Condition' 'Overvoltage' 'Overvoltage' 'Normal Condition'\n",
      " 'Normal Condition' 'Normal Condition' 'Normal Condition'\n",
      " 'Normal Condition' 'Overvoltage' 'Overvoltage'\n",
      " 'Overheating and Overvoltage' 'Overvoltage' 'Overvoltage'\n",
      " 'Normal Condition' 'Overvoltage' 'Overvoltage' 'Normal Condition'\n",
      " 'Normal Condition' 'Overvoltage' 'Normal Condition' 'Overvoltage'\n",
      " 'Normal Condition' 'Normal Condition' 'Overvoltage' 'Overvoltage'\n",
      " 'Normal Condition' 'Normal Condition' 'Overvoltage' 'Undervoltage'\n",
      " 'Overvoltage' 'Normal Condition' 'Normal Condition' 'Normal Condition'\n",
      " 'Overvoltage' 'Normal Condition' 'Overheating and Overvoltage'\n",
      " 'Undervoltage' 'Normal Condition' 'Normal Condition' 'Normal Condition'\n",
      " 'Overheating and Overvoltage' 'Overvoltage' 'Overheating and Overvoltage'\n",
      " 'Overvoltage' 'Overvoltage' 'Overvoltage' 'Normal Condition'\n",
      " 'Normal Condition' 'Overvoltage' 'Normal Condition' 'Normal Condition'\n",
      " 'Overvoltage' 'Overvoltage' 'Overheating and Overvoltage'\n",
      " 'Overheating and Overvoltage' 'Overvoltage' 'Normal Condition'\n",
      " 'Overvoltage' 'Overheating and Overvoltage' 'Normal Condition'\n",
      " 'Overvoltage' 'Overvoltage' 'Normal Condition' 'Overvoltage'\n",
      " 'Normal Condition' 'Overvoltage' 'Overvoltage' 'Normal Condition'\n",
      " 'Normal Condition' 'Overvoltage' 'Normal Condition' 'Normal Condition'\n",
      " 'Overvoltage' 'Normal Condition' 'Overheating and Overvoltage'\n",
      " 'Undervoltage' 'Overvoltage' 'Normal Condition' 'Normal Condition'\n",
      " 'Overvoltage' 'Overvoltage' 'Normal Condition' 'Normal Condition'\n",
      " 'Overheating and Overvoltage' 'Overvoltage' 'Overvoltage' 'Overvoltage'\n",
      " 'Normal Condition' 'Overvoltage' 'Overvoltage' 'Overvoltage'\n",
      " 'Overvoltage' 'Normal Condition' 'Overvoltage' 'Normal Condition'\n",
      " 'Overvoltage' 'Normal Condition' 'Overvoltage' 'Overvoltage'\n",
      " 'Overvoltage' 'Normal Condition' 'Normal Condition' 'Overvoltage'\n",
      " 'Normal Condition' 'Overheating and Overvoltage' 'Normal Condition'\n",
      " 'Overvoltage' 'Normal Condition' 'Overheating and Overvoltage'\n",
      " 'Normal Condition' 'Overvoltage' 'Overheating and Overvoltage'\n",
      " 'Normal Condition' 'Overvoltage' 'Normal Condition' 'Overvoltage'\n",
      " 'Normal Condition' 'Overvoltage' 'Overheating and Overvoltage'\n",
      " 'Normal Condition' 'Overvoltage' 'Overheating and Overvoltage'\n",
      " 'Normal Condition' 'Overvoltage' 'Overheating and Overvoltage'\n",
      " 'Overheating and Overvoltage' 'Overheating and Overvoltage' 'Overvoltage'\n",
      " 'Overvoltage' 'Normal Condition' 'Overvoltage' 'Normal Condition'\n",
      " 'Overvoltage' 'Overvoltage' 'Overvoltage' 'Normal Condition'\n",
      " 'Undervoltage' 'Normal Condition' 'Overvoltage'\n",
      " 'Overheating and Overvoltage' 'Overheating and Overvoltage' 'Overvoltage'\n",
      " 'Normal Condition' 'Overvoltage' 'Normal Condition' 'Overvoltage'\n",
      " 'Normal Condition' 'Normal Condition' 'Normal Condition' 'Overvoltage'\n",
      " 'Overvoltage' 'Normal Condition' 'Normal Condition' 'Overvoltage'\n",
      " 'Overvoltage' 'Overvoltage' 'Overvoltage' 'Overvoltage' 'Overvoltage'\n",
      " 'Overheating and Overvoltage' 'Overvoltage' 'Overvoltage'\n",
      " 'Normal Condition' 'Normal Condition' 'Overheating and Overvoltage'\n",
      " 'Normal Condition' 'Overheating and Overvoltage' 'Normal Condition'\n",
      " 'Normal Condition' 'Normal Condition' 'Overheating and Overvoltage'\n",
      " 'Normal Condition' 'Normal Condition' 'Overvoltage'\n",
      " 'Overheating and Overvoltage' 'Overvoltage' 'Overvoltage'\n",
      " 'Normal Condition' 'Normal Condition' 'Overvoltage' 'Overvoltage'\n",
      " 'Overheating and Overvoltage' 'Overheating and Overvoltage'\n",
      " 'Overheating and Overvoltage' 'Overvoltage' 'Overvoltage'\n",
      " 'Overheating and Overvoltage' 'Overvoltage' 'Normal Condition'\n",
      " 'Overvoltage' 'Overvoltage' 'Normal Condition' 'Overvoltage'\n",
      " 'Normal Condition' 'Normal Condition' 'Normal Condition' 'Overvoltage'\n",
      " 'Normal Condition' 'Overvoltage' 'Overheating and Overvoltage'\n",
      " 'Overvoltage' 'Overvoltage' 'Overvoltage' 'Overvoltage' 'Overvoltage'\n",
      " 'Overheating and Overvoltage' 'Overheating and Overvoltage'\n",
      " 'Normal Condition' 'Overvoltage' 'Overvoltage' 'Overvoltage'\n",
      " 'Overheating and Overvoltage' 'Normal Condition'\n",
      " 'Overheating and Overvoltage' 'Normal Condition'\n",
      " 'Overheating and Overvoltage' 'Overvoltage' 'Normal Condition']\n"
     ]
    }
   ],
   "source": [
    "print(y_pred)"
   ]
  },
  {
   "cell_type": "code",
   "execution_count": 97,
   "metadata": {
    "id": "2UmE-cley7uY"
   },
   "outputs": [],
   "source": [
    "# Creating a dictionary to map Fault_Type to Cause\n",
    "fault_cause_mapping = dict(df[[\"Fault_Type\",\"Cause\"]].drop_duplicates().values)"
   ]
  },
  {
   "cell_type": "code",
   "execution_count": 98,
   "metadata": {
    "colab": {
     "base_uri": "https://localhost:8080/"
    },
    "id": "HJus5MQhy-_R",
    "outputId": "e57ffe89-0c95-4846-eb0a-c7e9b22c44b9"
   },
   "outputs": [
    {
     "name": "stdout",
     "output_type": "stream",
     "text": [
      "{'Normal Condition': 'All parameters within normal operating range', 'Overheating and Overvoltage': 'High voltage causing excessive heat or cooling system failure', 'Undervoltage': 'Grid instability or transformer overload', 'Overvoltage': 'Grid surge or faulty voltage regulator'}\n"
     ]
    }
   ],
   "source": [
    "print(fault_cause_mapping)"
   ]
  },
  {
   "cell_type": "code",
   "execution_count": 101,
   "metadata": {
    "colab": {
     "base_uri": "https://localhost:8080/"
    },
    "id": "mKP1ZaLMzAbu",
    "outputId": "37184714-bd14-4a9c-bddc-8ffb77464fe4"
   },
   "outputs": [
    {
     "name": "stdout",
     "output_type": "stream",
     "text": [
      "Predicted Fault: Normal Condition\n",
      "Cause: All parameters within normal operating range\n"
     ]
    },
    {
     "name": "stderr",
     "output_type": "stream",
     "text": [
      "C:\\ProgramData\\anaconda3\\Lib\\site-packages\\sklearn\\base.py:464: UserWarning: X does not have valid feature names, but RandomForestClassifier was fitted with feature names\n",
      "  warnings.warn(\n"
     ]
    }
   ],
   "source": [
    "\n",
    "# # def predict_fault_and_cause(input_data):\n",
    "\n",
    "# #     input_data_as_numpy_array = np.asarray(input_data).reshape(1, -1)\n",
    "# #     predicted_fault = rf_classifier.predict(input_data_as_numpy_array)[0]\n",
    "\n",
    "# #     predicted_cause = fault_cause_mapping.get(predicted_fault, \"Unknown Cause\")\n",
    "\n",
    "# #     return predicted_fault, predicted_cause\n",
    "\n",
    "\n",
    "# # def predict_fault_and_cause(input_data):\n",
    "# #     input_df = pd.DataFrame([input_data], columns=X_train.columns)  # Match feature names\n",
    "# #     predicted_fault = rf_classifier.predict(input_df)[0]  # Predict fault type\n",
    "# #     predicted_cause = fault_cause_mapping.get(predicted_fault, \"Unknown Cause\")  # Get cause\n",
    "\n",
    "# #     return predicted_fault, predicted_cause\n",
    "\n",
    "\n",
    "# input_data = (175,0.04,11.0,15.025,50.19,0.77,35)\n",
    "\n",
    "\n",
    "# predicted_fault, predicted_cause = predict_fault_and_cause(input_data)\n",
    "\n",
    "# print(f\"Predicted Fault: {predicted_fault}\")\n",
    "# print(f\"Cause: {predicted_cause}\")\n",
    "# # Overheating and Overvoltage\tHigh voltage causing excessive heat or cooling..."
   ]
  },
  {
   "cell_type": "code",
   "execution_count": 102,
   "metadata": {},
   "outputs": [
    {
     "name": "stdout",
     "output_type": "stream",
     "text": [
      "Predicted Fault: Undervoltage\n",
      "Cause: Grid instability or transformer overload\n"
     ]
    },
    {
     "name": "stderr",
     "output_type": "stream",
     "text": [
      "C:\\ProgramData\\anaconda3\\Lib\\site-packages\\sklearn\\base.py:464: UserWarning: X does not have valid feature names, but RandomForestClassifier was fitted with feature names\n",
      "  warnings.warn(\n"
     ]
    }
   ],
   "source": [
    "\n",
    "def predict_fault_and_cause(input_data):\n",
    "    \n",
    "    input_data_as_numpy_array = np.asarray(input_data).reshape(1, -1)\n",
    "\n",
    "    \n",
    "    predicted_fault = rf_classifier.predict(input_data_as_numpy_array)[0]\n",
    "\n",
    "    \n",
    "    predicted_cause = fault_cause_mapping.get(predicted_fault, \"Unknown Cause\")\n",
    "\n",
    "    return predicted_fault, predicted_cause\n",
    "\n",
    "\n",
    "\n",
    "input_data = (150, 0.085, 14.4, 0.015, 49.98, 0.62, 95.3)\n",
    "\n",
    "\n",
    "predicted_fault, predicted_cause = predict_fault_and_cause(input_data)\n",
    "\n",
    "print(f\"Predicted Fault: {predicted_fault}\")\n",
    "print(f\"Cause: {predicted_cause}\")"
   ]
  },
  {
   "cell_type": "code",
   "execution_count": 68,
   "metadata": {},
   "outputs": [
    {
     "data": {
      "image/png": "[encoded data removed]",
      "text/plain": [
       "<Figure size 600x400 with 1 Axes>"
      ]
     },
     "metadata": {},
     "output_type": "display_data"
    },
    {
     "data": {
      "image/png": "[encoded data removed]",
      "text/plain": [
       "<Figure size 600x400 with 1 Axes>"
      ]
     },
     "metadata": {},
     "output_type": "display_data"
    },
    {
     "data": {
      "image/png": "[encoded data removed]",
      "text/plain": [
       "<Figure size 600x400 with 1 Axes>"
      ]
     },
     "metadata": {},
     "output_type": "display_data"
    },
    {
     "data": {
      "image/png": "[encoded data removed]",
      "text/plain": [
       "<Figure size 600x400 with 1 Axes>"
      ]
     },
     "metadata": {},
     "output_type": "display_data"
    },
    {
     "data": {
      "image/png": "[encoded data removed]",
      "text/plain": [
       "<Figure size 600x400 with 1 Axes>"
      ]
     },
     "metadata": {},
     "output_type": "display_data"
    },
    {
     "data": {
      "image/png": "[encoded data removed]",
      "text/plain": [
       "<Figure size 600x400 with 1 Axes>"
      ]
     },
     "metadata": {},
     "output_type": "display_data"
    },
    {
     "data": {
      "image/png": "[encoded data removed]",
      "text/plain": [
       "<Figure size 600x400 with 1 Axes>"
      ]
     },
     "metadata": {},
     "output_type": "display_data"
    }
   ],
   "source": [
    "#Use histograms or boxplots to visualize distributions and detect outliers.\n",
    "\n",
    "import seaborn as sns\n",
    "import matplotlib.pyplot as plt\n",
    "\n",
    "for col in X_train.columns:\n",
    "    plt.figure(figsize=(6, 4))\n",
    "    sns.histplot(X_train[col], kde=True)\n",
    "    plt.title(f'Distribution of {col}')\n",
    "    plt.show()\n"
   ]
  },
  {
   "cell_type": "code",
   "execution_count": 69,
   "metadata": {
    "scrolled": true
   },
   "outputs": [
    {
     "data": {
      "image/png": "[encoded data removed]",
      "text/plain": [
       "<Figure size 1000x800 with 2 Axes>"
      ]
     },
     "metadata": {},
     "output_type": "display_data"
    }
   ],
   "source": [
    "#Identify multicollinearity or highly correlated features.\n",
    "\n",
    "plt.figure(figsize=(10, 8))\n",
    "sns.heatmap(X_train.corr(), annot=True, cmap='coolwarm')\n",
    "plt.title('Feature Correlation Matrix')\n",
    "plt.show()\n"
   ]
  },
  {
   "cell_type": "code",
   "execution_count": 70,
   "metadata": {},
   "outputs": [
    {
     "data": {
      "image/png": "[encoded data removed]",
      "text/plain": [
       "<Figure size 600x400 with 1 Axes>"
      ]
     },
     "metadata": {},
     "output_type": "display_data"
    },
    {
     "data": {
      "image/png": "[encoded data removed]",
      "text/plain": [
       "<Figure size 600x400 with 1 Axes>"
      ]
     },
     "metadata": {},
     "output_type": "display_data"
    },
    {
     "data": {
      "image/png": "[encoded data removed]",
      "text/plain": [
       "<Figure size 600x400 with 1 Axes>"
      ]
     },
     "metadata": {},
     "output_type": "display_data"
    },
    {
     "data": {
      "image/png": "[encoded data removed]",
      "text/plain": [
       "<Figure size 600x400 with 1 Axes>"
      ]
     },
     "metadata": {},
     "output_type": "display_data"
    },
    {
     "data": {
      "image/png": "[encoded data removed]",
      "text/plain": [
       "<Figure size 600x400 with 1 Axes>"
      ]
     },
     "metadata": {},
     "output_type": "display_data"
    },
    {
     "data": {
      "image/png": "[encoded data removed]",
      "text/plain": [
       "<Figure size 600x400 with 1 Axes>"
      ]
     },
     "metadata": {},
     "output_type": "display_data"
    },
    {
     "data": {
      "image/png": "[encoded data removed]",
      "text/plain": [
       "<Figure size 600x400 with 1 Axes>"
      ]
     },
     "metadata": {},
     "output_type": "display_data"
    }
   ],
   "source": [
    "#Analyze how individual features impact the target.\n",
    "\n",
    "for col in X_train.columns:\n",
    "    plt.figure(figsize=(6, 4))\n",
    "    sns.boxplot(x=y_train, y=X_train[col])\n",
    "    plt.title(f'{col} vs Target')\n",
    "    plt.show()\n"
   ]
  },
  {
   "cell_type": "code",
   "execution_count": 71,
   "metadata": {
    "id": "YSE4Cfc-E7UW",
    "scrolled": true
   },
   "outputs": [
    {
     "data": {
      "image/png": "[encoded data removed]",
      "text/plain": [
       "<Figure size 640x480 with 2 Axes>"
      ]
     },
     "metadata": {},
     "output_type": "display_data"
    }
   ],
   "source": [
    "#Evaluate model performance on classification tasks.\n",
    "\n",
    "from sklearn.metrics import confusion_matrix, ConfusionMatrixDisplay\n",
    "\n",
    "cm = confusion_matrix(y_test, y_pred)\n",
    "disp = ConfusionMatrixDisplay(confusion_matrix=cm)\n",
    "disp.plot(cmap='Blues')\n",
    "plt.title(\"Confusion Matrix\")\n",
    "plt.show()"
   ]
  },
  {
   "cell_type": "code",
   "execution_count": 103,
   "metadata": {},
   "outputs": [
    {
     "data": {
      "text/plain": [
       "['rf_model.pkl']"
      ]
     },
     "execution_count": 103,
     "metadata": {},
     "output_type": "execute_result"
    }
   ],
   "source": [
    "import joblib\n",
    "rf_classifier.fault_cause_mapping = fault_cause_mapping\n",
    "joblib.dump(rf_classifier, \"rf_model.pkl\")"
   ]
  },
  {
   "cell_type": "code",
   "execution_count": null,
   "metadata": {},
   "outputs": [],
   "source": []
  },
  {
   "cell_type": "code",
   "execution_count": null,
   "metadata": {},
   "outputs": [],
   "source": [
    "# dummy"
   ]
  },
  {
   "cell_type": "code",
   "execution_count": 56,
   "metadata": {},
   "outputs": [
    {
     "name": "stdout",
     "output_type": "stream",
     "text": [
      "Feature names used during training: ['voltage' 'current' 'power' 'energy' 'frequency' 'power factor' 'temp']\n"
     ]
    }
   ],
   "source": [
    "print(\"Feature names used during training:\", rf_classifier.feature_names_in_)\n"
   ]
  },
  {
   "cell_type": "code",
   "execution_count": 2,
   "metadata": {},
   "outputs": [
    {
     "name": "stdout",
     "output_type": "stream",
     "text": [
      "1.3.0\n"
     ]
    }
   ],
   "source": [
    "import sklearn\n",
    "print(sklearn.__version__)\n"
   ]
  },
  {
   "cell_type": "code",
   "execution_count": 1,
   "metadata": {},
   "outputs": [
    {
     "name": "stdout",
     "output_type": "stream",
     "text": [
      "Numpy version: 1.24.3\n",
      "Scikit-learn version: 1.3.0\n"
     ]
    }
   ],
   "source": [
    "import numpy\n",
    "import sklearn\n",
    "print(\"Numpy version:\", numpy.__version__)\n",
    "print(\"Scikit-learn version:\", sklearn.__version__)\n"
   ]
  },
  {
   "cell_type": "code",
   "execution_count": 5,
   "metadata": {},
   "outputs": [
    {
     "name": "stdout",
     "output_type": "stream",
     "text": [
      "Numpy version: 1.24.4\n",
      "Pandas version: 1.5.3\n",
      "Scikit-learn version: 1.3.0\n",
      "Joblib version: 1.2.0\n",
      "Requests version: 2.32.3\n",
      "Streamlit version: 1.42.2\n"
     ]
    }
   ],
   "source": [
    "import numpy as np\n",
    "import pandas as pd\n",
    "import sklearn\n",
    "import joblib\n",
    "import requests\n",
    "import time\n",
    "import streamlit as st\n",
    "from sklearn.model_selection import train_test_split\n",
    "from sklearn.preprocessing import StandardScaler\n",
    "from sklearn.ensemble import RandomForestClassifier\n",
    "from sklearn.tree import DecisionTreeClassifier\n",
    "from sklearn.metrics import accuracy_score, classification_report\n",
    "from sklearn.impute import SimpleImputer\n",
    "from sklearn.preprocessing import LabelEncoder\n",
    "from sklearn.preprocessing import OneHotEncoder\n",
    "\n",
    "# Print versions of the libraries\n",
    "print(\"Numpy version:\", np.__version__)\n",
    "print(\"Pandas version:\", pd.__version__)\n",
    "print(\"Scikit-learn version:\", sklearn.__version__)  # Corrected line\n",
    "print(\"Joblib version:\", joblib.__version__)\n",
    "print(\"Requests version:\", requests.__version__)\n",
    "print(\"Streamlit version:\", st.__version__)\n"
   ]
  }
 ],
 "metadata": {
  "colab": {
   "provenance": []
  },
  "kernelspec": {
   "display_name": "Python 3 (ipykernel)",
   "language": "python",
   "name": "python3"
  },
  "language_info": {
   "codemirror_mode": {
    "name": "ipython",
    "version": 3
   },
   "file_extension": ".py",
   "mimetype": "text/x-python",
   "name": "python",
   "nbconvert_exporter": "python",
   "pygments_lexer": "ipython3",
   "version": "3.11.5"
  }
 },
 "nbformat": 4,
 "nbformat_minor": 1
}
